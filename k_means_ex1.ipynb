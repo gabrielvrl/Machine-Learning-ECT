{
  "nbformat": 4,
  "nbformat_minor": 0,
  "metadata": {
    "colab": {
      "name": "k_means_ex1.ipynb",
      "version": "0.3.2",
      "provenance": [],
      "collapsed_sections": [],
      "include_colab_link": true
    },
    "kernelspec": {
      "name": "python3",
      "display_name": "Python 3"
    }
  },
  "cells": [
    {
      "cell_type": "markdown",
      "metadata": {
        "id": "view-in-github",
        "colab_type": "text"
      },
      "source": [
        "<a href=\"https://colab.research.google.com/github/gabrielvrl/Machine-Learning-ECT/blob/master/k_means_ex1.ipynb\" target=\"_parent\"><img src=\"https://colab.research.google.com/assets/colab-badge.svg\" alt=\"Open In Colab\"/></a>"
      ]
    },
    {
      "cell_type": "code",
      "metadata": {
        "id": "vXnYcy6XnBCu",
        "colab_type": "code",
        "colab": {}
      },
      "source": [
        "# K-Means\n",
        "# from https://www.superdatascience.com/machine-learning/ \n",
        "\n",
        "\n",
        "# Part 1 - Data Preprocessing\n",
        "\n",
        "# Importing the libraries\n",
        "import numpy as np\n",
        "import matplotlib.pyplot as plt\n",
        "import pandas as pd"
      ],
      "execution_count": 0,
      "outputs": []
    },
    {
      "cell_type": "code",
      "metadata": {
        "id": "7bXJKKaAnPIE",
        "colab_type": "code",
        "outputId": "fea3d0cb-7785-493a-9dda-5396f27df121",
        "colab": {
          "base_uri": "https://localhost:8080/",
          "height": 34
        }
      },
      "source": [
        "import os\n",
        "import tarfile\n",
        "from six.moves import urllib\n",
        "\n",
        "FILE_TO_DOWNLOAD =  \"perfil_politico2019.csv\"\n",
        "DOWNLOAD_ROOT = \"https://raw.githubusercontent.com/ect-info/ml/master/\"\n",
        "DATA_PATH = \"dados/\"\n",
        "DATA_URL = DOWNLOAD_ROOT + DATA_PATH + FILE_TO_DOWNLOAD\n",
        "\n",
        "def fetch_data(data_url=DATA_URL, data_path=DATA_PATH, file_to_download=FILE_TO_DOWNLOAD):\n",
        "  if not os.path.isdir(data_path):\n",
        "    os.makedirs(data_path)\n",
        "  urllib.request.urlretrieve(data_url, data_path+file_to_download)\n",
        "  \n",
        "  \n",
        "fetch_data()\n",
        "\n",
        "# observando se o diretório datasets foi criado com sucesso \n",
        "!ls dados"
      ],
      "execution_count": 0,
      "outputs": [
        {
          "output_type": "stream",
          "text": [
            "perfil_politico2019.csv\n"
          ],
          "name": "stdout"
        }
      ]
    },
    {
      "cell_type": "code",
      "metadata": {
        "id": "_HE3vh8Hn7uS",
        "colab_type": "code",
        "outputId": "48218c2f-46fc-4f3a-ccb9-639946e652db",
        "colab": {
          "base_uri": "https://localhost:8080/",
          "height": 498
        }
      },
      "source": [
        "# Importing the dataset\n",
        "dataset = pd.read_csv(DATA_PATH+FILE_TO_DOWNLOAD)\n",
        "\n",
        "\n",
        "dataset.head(10)"
      ],
      "execution_count": 0,
      "outputs": [
        {
          "output_type": "execute_result",
          "data": {
            "text/html": [
              "<div>\n",
              "<style scoped>\n",
              "    .dataframe tbody tr th:only-of-type {\n",
              "        vertical-align: middle;\n",
              "    }\n",
              "\n",
              "    .dataframe tbody tr th {\n",
              "        vertical-align: top;\n",
              "    }\n",
              "\n",
              "    .dataframe thead th {\n",
              "        text-align: right;\n",
              "    }\n",
              "</style>\n",
              "<table border=\"1\" class=\"dataframe\">\n",
              "  <thead>\n",
              "    <tr style=\"text-align: right;\">\n",
              "      <th></th>\n",
              "      <th>Apoia privatizações das empresas brasileiras?</th>\n",
              "      <th>Lula deve ser solto</th>\n",
              "      <th>O impeachment de Dilma foi um golpe?</th>\n",
              "      <th>Legalização do aborto</th>\n",
              "      <th>Políticas de ações afirmativas (cotas)</th>\n",
              "      <th>A favor da reforma agrária</th>\n",
              "      <th>Todos os brasileiro devem alcançar suas conquistas através da meritocracia</th>\n",
              "      <th>Apoia a legalização do porte de armas</th>\n",
              "      <th>Apoia a redução da maioridade penal</th>\n",
              "      <th>Apoia a laicidade do Estado</th>\n",
              "      <th>Apoia a diminuição do Estado</th>\n",
              "      <th>As Universidades são um gasto público?</th>\n",
              "      <th>A favor do foro privilegiado?</th>\n",
              "      <th>A favor de uma reforma política?</th>\n",
              "      <th>A favor de uma diminuição de regalias para os políticos?</th>\n",
              "    </tr>\n",
              "  </thead>\n",
              "  <tbody>\n",
              "    <tr>\n",
              "      <th>0</th>\n",
              "      <td>1.0</td>\n",
              "      <td>0.0</td>\n",
              "      <td>0.0</td>\n",
              "      <td>0.5</td>\n",
              "      <td>1.0</td>\n",
              "      <td>1.0</td>\n",
              "      <td>0.5</td>\n",
              "      <td>0.5</td>\n",
              "      <td>1.0</td>\n",
              "      <td>1.0</td>\n",
              "      <td>1.0</td>\n",
              "      <td>0.0</td>\n",
              "      <td>0.0</td>\n",
              "      <td>1.0</td>\n",
              "      <td>1.0</td>\n",
              "    </tr>\n",
              "    <tr>\n",
              "      <th>1</th>\n",
              "      <td>0.5</td>\n",
              "      <td>1.0</td>\n",
              "      <td>1.0</td>\n",
              "      <td>0.5</td>\n",
              "      <td>1.0</td>\n",
              "      <td>0.5</td>\n",
              "      <td>1.0</td>\n",
              "      <td>0.0</td>\n",
              "      <td>1.0</td>\n",
              "      <td>1.0</td>\n",
              "      <td>0.5</td>\n",
              "      <td>0.0</td>\n",
              "      <td>0.0</td>\n",
              "      <td>1.0</td>\n",
              "      <td>1.0</td>\n",
              "    </tr>\n",
              "    <tr>\n",
              "      <th>2</th>\n",
              "      <td>1.0</td>\n",
              "      <td>0.0</td>\n",
              "      <td>0.0</td>\n",
              "      <td>1.0</td>\n",
              "      <td>0.5</td>\n",
              "      <td>0.5</td>\n",
              "      <td>1.0</td>\n",
              "      <td>1.0</td>\n",
              "      <td>1.0</td>\n",
              "      <td>1.0</td>\n",
              "      <td>1.0</td>\n",
              "      <td>0.0</td>\n",
              "      <td>0.0</td>\n",
              "      <td>0.0</td>\n",
              "      <td>1.0</td>\n",
              "    </tr>\n",
              "    <tr>\n",
              "      <th>3</th>\n",
              "      <td>1.0</td>\n",
              "      <td>0.0</td>\n",
              "      <td>1.0</td>\n",
              "      <td>0.0</td>\n",
              "      <td>1.0</td>\n",
              "      <td>1.0</td>\n",
              "      <td>1.0</td>\n",
              "      <td>0.0</td>\n",
              "      <td>0.0</td>\n",
              "      <td>1.0</td>\n",
              "      <td>1.0</td>\n",
              "      <td>0.0</td>\n",
              "      <td>1.0</td>\n",
              "      <td>1.0</td>\n",
              "      <td>1.0</td>\n",
              "    </tr>\n",
              "    <tr>\n",
              "      <th>4</th>\n",
              "      <td>0.0</td>\n",
              "      <td>0.0</td>\n",
              "      <td>1.0</td>\n",
              "      <td>0.0</td>\n",
              "      <td>0.0</td>\n",
              "      <td>0.0</td>\n",
              "      <td>1.0</td>\n",
              "      <td>1.0</td>\n",
              "      <td>1.0</td>\n",
              "      <td>1.0</td>\n",
              "      <td>0.0</td>\n",
              "      <td>0.0</td>\n",
              "      <td>0.0</td>\n",
              "      <td>1.0</td>\n",
              "      <td>1.0</td>\n",
              "    </tr>\n",
              "    <tr>\n",
              "      <th>5</th>\n",
              "      <td>0.0</td>\n",
              "      <td>1.0</td>\n",
              "      <td>1.0</td>\n",
              "      <td>1.0</td>\n",
              "      <td>1.0</td>\n",
              "      <td>1.0</td>\n",
              "      <td>0.5</td>\n",
              "      <td>0.0</td>\n",
              "      <td>0.0</td>\n",
              "      <td>1.0</td>\n",
              "      <td>0.0</td>\n",
              "      <td>0.0</td>\n",
              "      <td>0.5</td>\n",
              "      <td>1.0</td>\n",
              "      <td>1.0</td>\n",
              "    </tr>\n",
              "    <tr>\n",
              "      <th>6</th>\n",
              "      <td>0.0</td>\n",
              "      <td>0.5</td>\n",
              "      <td>1.0</td>\n",
              "      <td>1.0</td>\n",
              "      <td>1.0</td>\n",
              "      <td>0.0</td>\n",
              "      <td>0.0</td>\n",
              "      <td>0.0</td>\n",
              "      <td>0.5</td>\n",
              "      <td>1.0</td>\n",
              "      <td>0.0</td>\n",
              "      <td>0.0</td>\n",
              "      <td>1.0</td>\n",
              "      <td>1.0</td>\n",
              "      <td>1.0</td>\n",
              "    </tr>\n",
              "    <tr>\n",
              "      <th>7</th>\n",
              "      <td>0.5</td>\n",
              "      <td>1.0</td>\n",
              "      <td>1.0</td>\n",
              "      <td>1.0</td>\n",
              "      <td>0.5</td>\n",
              "      <td>1.0</td>\n",
              "      <td>1.0</td>\n",
              "      <td>0.5</td>\n",
              "      <td>1.0</td>\n",
              "      <td>1.0</td>\n",
              "      <td>1.0</td>\n",
              "      <td>0.0</td>\n",
              "      <td>0.0</td>\n",
              "      <td>1.0</td>\n",
              "      <td>0.0</td>\n",
              "    </tr>\n",
              "    <tr>\n",
              "      <th>8</th>\n",
              "      <td>0.5</td>\n",
              "      <td>0.0</td>\n",
              "      <td>1.0</td>\n",
              "      <td>0.0</td>\n",
              "      <td>0.5</td>\n",
              "      <td>0.5</td>\n",
              "      <td>0.0</td>\n",
              "      <td>0.0</td>\n",
              "      <td>0.0</td>\n",
              "      <td>1.0</td>\n",
              "      <td>1.0</td>\n",
              "      <td>0.0</td>\n",
              "      <td>0.0</td>\n",
              "      <td>1.0</td>\n",
              "      <td>1.0</td>\n",
              "    </tr>\n",
              "    <tr>\n",
              "      <th>9</th>\n",
              "      <td>1.0</td>\n",
              "      <td>0.0</td>\n",
              "      <td>0.0</td>\n",
              "      <td>1.0</td>\n",
              "      <td>0.0</td>\n",
              "      <td>1.0</td>\n",
              "      <td>1.0</td>\n",
              "      <td>1.0</td>\n",
              "      <td>1.0</td>\n",
              "      <td>1.0</td>\n",
              "      <td>1.0</td>\n",
              "      <td>1.0</td>\n",
              "      <td>0.0</td>\n",
              "      <td>1.0</td>\n",
              "      <td>1.0</td>\n",
              "    </tr>\n",
              "  </tbody>\n",
              "</table>\n",
              "</div>"
            ],
            "text/plain": [
              "   Apoia privatizações das empresas brasileiras?  ...  A favor de uma diminuição de regalias para os políticos?\n",
              "0                                            1.0  ...                                                1.0       \n",
              "1                                            0.5  ...                                                1.0       \n",
              "2                                            1.0  ...                                                1.0       \n",
              "3                                            1.0  ...                                                1.0       \n",
              "4                                            0.0  ...                                                1.0       \n",
              "5                                            0.0  ...                                                1.0       \n",
              "6                                            0.0  ...                                                1.0       \n",
              "7                                            0.5  ...                                                0.0       \n",
              "8                                            0.5  ...                                                1.0       \n",
              "9                                            1.0  ...                                                1.0       \n",
              "\n",
              "[10 rows x 15 columns]"
            ]
          },
          "metadata": {
            "tags": []
          },
          "execution_count": 58
        }
      ]
    },
    {
      "cell_type": "code",
      "metadata": {
        "id": "BttMH4I8oLj3",
        "colab_type": "code",
        "outputId": "5292b07d-c9c6-4ab5-ba0b-2f913557c1e3",
        "colab": {
          "base_uri": "https://localhost:8080/",
          "height": 561
        }
      },
      "source": [
        "X = dataset.iloc[:,:].values\n",
        "print(X)\n",
        "\n",
        "#print(X[0:6,:])"
      ],
      "execution_count": 0,
      "outputs": [
        {
          "output_type": "stream",
          "text": [
            "[[1.  0.  0.  0.5 1.  1.  0.5 0.5 1.  1.  1.  0.  0.  1.  1. ]\n",
            " [0.5 1.  1.  0.5 1.  0.5 1.  0.  1.  1.  0.5 0.  0.  1.  1. ]\n",
            " [1.  0.  0.  1.  0.5 0.5 1.  1.  1.  1.  1.  0.  0.  0.  1. ]\n",
            " [1.  0.  1.  0.  1.  1.  1.  0.  0.  1.  1.  0.  1.  1.  1. ]\n",
            " [0.  0.  1.  0.  0.  0.  1.  1.  1.  1.  0.  0.  0.  1.  1. ]\n",
            " [0.  1.  1.  1.  1.  1.  0.5 0.  0.  1.  0.  0.  0.5 1.  1. ]\n",
            " [0.  0.5 1.  1.  1.  0.  0.  0.  0.5 1.  0.  0.  1.  1.  1. ]\n",
            " [0.5 1.  1.  1.  0.5 1.  1.  0.5 1.  1.  1.  0.  0.  1.  0. ]\n",
            " [0.5 0.  1.  0.  0.5 0.5 0.  0.  0.  1.  1.  0.  0.  1.  1. ]\n",
            " [1.  0.  0.  1.  0.  1.  1.  1.  1.  1.  1.  1.  0.  1.  1. ]\n",
            " [1.  0.  1.  1.  1.  1.  0.  0.  0.  1.  1.  1.  0.  1.  1. ]\n",
            " [0.5 0.  0.5 0.  0.5 0.  1.  0.  1.  0.5 1.  0.  0.  1.  1. ]\n",
            " [0.5 0.5 1.  1.  0.5 0.  1.  0.  0.5 1.  0.5 0.  0.  1.  1. ]\n",
            " [0.5 0.5 1.  0.  1.  0.5 0.  0.  0.  1.  0.  0.  0.  1.  1. ]\n",
            " [0.  1.  1.  1.  1.  1.  1.  0.  0.  1.  1.  0.  0.  1.  1. ]\n",
            " [1.  0.  0.  0.  0.5 0.5 0.5 1.  1.  0.5 1.  1.  0.  1.  1. ]\n",
            " [0.5 0.  0.  1.  0.  1.  1.  0.  1.  1.  0.5 0.  0.  1.  1. ]\n",
            " [0.5 0.  0.  0.5 0.5 0.5 0.5 0.  0.  1.  0.5 0.  0.  1.  1. ]\n",
            " [0.  0.5 1.  1.  0.5 1.  0.  0.  1.  1.  0.5 0.5 0.  1.  1. ]\n",
            " [1.  0.5 0.5 1.  0.  1.  1.  0.  1.  0.  1.  0.5 0.5 1.  1. ]\n",
            " [0.5 0.5 1.  0.5 1.  1.  1.  0.  0.  0.5 0.5 0.  0.  1.  1. ]\n",
            " [1.  0.  0.  0.  0.  0.  0.5 1.  1.  1.  1.  1.  0.  1.  1. ]\n",
            " [0.5 0.5 1.  1.  1.  0.5 0.5 0.  0.  1.  0.5 0.  0.  1.  1. ]\n",
            " [0.5 0.5 1.  0.  1.  1.  1.  0.  0.  1.  0.5 0.  0.  1.  1. ]\n",
            " [0.5 0.  0.5 0.  1.  0.5 1.  0.5 0.5 1.  0.5 0.  0.  1.  1. ]\n",
            " [0.5 0.5 1.  1.  1.  1.  0.  0.5 0.  1.  0.5 0.  0.  1.  1. ]\n",
            " [0.5 0.  1.  1.  0.  0.  1.  0.5 1.  1.  1.  0.  0.  1.  1. ]\n",
            " [0.5 0.  0.5 0.5 1.  0.5 0.  0.  0.  1.  1.  0.  0.  1.  1. ]\n",
            " [0.  1.  1.  1.  1.  1.  0.  0.  0.  1.  0.5 1.  0.  1.  1. ]\n",
            " [0.  0.  0.  0.  1.  1.  1.  0.  0.  1.  1.  0.  1.  1.  0. ]\n",
            " [0.5 1.  1.  1.  1.  0.5 0.5 0.  1.  1.  0.5 0.5 0.  0.5 0.5]\n",
            " [1.  1.  1.  1.  1.  1.  0.  1.  1.  1.  1.  1.  0.  1.  1. ]]\n"
          ],
          "name": "stdout"
        }
      ]
    },
    {
      "cell_type": "code",
      "metadata": {
        "id": "XkqnV-WRo4IH",
        "colab_type": "code",
        "outputId": "0d8ea181-8126-438d-b042-0a28f98f5fbd",
        "colab": {
          "base_uri": "https://localhost:8080/",
          "height": 34
        }
      },
      "source": [
        "# Fitting K-Means to the dataset\n",
        "\n",
        "from sklearn.cluster import KMeans\n",
        "\n",
        "kmeans = KMeans(n_clusters = 2, init = 'random', random_state = 1)\n",
        "y_kmeans = kmeans.fit_predict(X)\n",
        "print(y_kmeans)\n",
        "\n",
        "\n"
      ],
      "execution_count": 0,
      "outputs": [
        {
          "output_type": "stream",
          "text": [
            "[0 1 0 1 0 1 1 1 1 0 1 0 1 1 1 0 0 0 1 0 1 0 1 1 0 1 0 1 1 1 1 1]\n"
          ],
          "name": "stdout"
        }
      ]
    },
    {
      "cell_type": "code",
      "metadata": {
        "id": "rTI5N_WGrHuT",
        "colab_type": "code",
        "outputId": "5db703b3-9939-4f79-98af-b438ed24b26f",
        "colab": {
          "base_uri": "https://localhost:8080/",
          "height": 346
        }
      },
      "source": [
        "# Visualising the clusters\n",
        "#plt.scatter(X[:, 0], X[:, 1], s = 100, c = 'red', label = 'Data')\n",
        "\n",
        "plt.scatter(X[y_kmeans == 0, 0], X[y_kmeans == 0, 1], s = 100, c = 'black', label = 'Cluster 1')\n",
        "plt.scatter(X[y_kmeans == 1, 0], X[y_kmeans == 1, 1], s = 100, c = 'blue', label = 'Cluster 2')\n",
        "#plt.scatter(X[y_kmeans == 2, 0], X[y_kmeans == 2, 1], s = 100, c = 'red', label = 'Cluster 3')\n",
        "#plt.scatter(X[y_kmeans == 3, 0], X[y_kmeans == 3, 1], s = 100, c = 'cyan', label = 'Cluster 4')\n",
        "#plt.scatter(X[y_kmeans == 4, 0], X[y_kmeans == 4, 1], s = 100, c = 'magenta', label = 'Cluster 5')\n",
        "plt.scatter(kmeans.cluster_centers_[:, 0], kmeans.cluster_centers_[:, 1], s = 300, c = 'yellow', label = 'Centroids')\n",
        "plt.title('Clusters of customers')\n",
        "plt.xlabel('Annual Income (k$)')\n",
        "plt.ylabel('Spending Score (1-100)')\n",
        "plt.legend()\n",
        "plt.show()\n",
        "print(kmeans.cluster_centers_[0,:])"
      ],
      "execution_count": 0,
      "outputs": [
        {
          "output_type": "display_data",
          "data": {
            "image/png": "[encoded data removed]",
            "text/plain": [
              "<Figure size 432x288 with 1 Axes>"
            ]
          },
          "metadata": {
            "tags": []
          }
        },
        {
          "output_type": "stream",
          "text": [
            "[0.70833333 0.04166667 0.29166667 0.5        0.33333333 0.5\n",
            " 0.83333333 0.54166667 0.875      0.83333333 0.79166667 0.29166667\n",
            " 0.04166667 0.91666667 1.        ]\n"
          ],
          "name": "stdout"
        }
      ]
    },
    {
      "cell_type": "code",
      "metadata": {
        "id": "jGpPy9ZNnllU",
        "colab_type": "code",
        "colab": {}
      },
      "source": [
        "gabriel = [0.5, 1, 0, 1, 1, 0, 1, 0, 0, 1, 0, 0, 0, 1, 1]"
      ],
      "execution_count": 0,
      "outputs": []
    },
    {
      "cell_type": "code",
      "metadata": {
        "id": "fHGGyS9goFXz",
        "colab_type": "code",
        "outputId": "46ca1694-4574-4d91-823b-3cc1f03d6282",
        "colab": {
          "base_uri": "https://localhost:8080/",
          "height": 34
        }
      },
      "source": [
        "print(kmeans.predict([gabriel]))"
      ],
      "execution_count": 0,
      "outputs": [
        {
          "output_type": "stream",
          "text": [
            "[1]\n"
          ],
          "name": "stdout"
        }
      ]
    }
  ]
}