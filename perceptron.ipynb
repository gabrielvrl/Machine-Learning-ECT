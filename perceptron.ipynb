{
  "nbformat": 4,
  "nbformat_minor": 0,
  "metadata": {
    "colab": {
      "name": "perceptron.ipynb",
      "version": "0.3.2",
      "provenance": [],
      "collapsed_sections": [],
      "include_colab_link": true
    },
    "kernelspec": {
      "name": "python3",
      "display_name": "Python 3"
    }
  },
  "cells": [
    {
      "cell_type": "markdown",
      "metadata": {
        "id": "view-in-github",
        "colab_type": "text"
      },
      "source": [
        "<a href=\"https://colab.research.google.com/github/gabrielvrl/Machine-Learning-ECT/blob/master/perceptron.ipynb\" target=\"_parent\"><img src=\"https://colab.research.google.com/assets/colab-badge.svg\" alt=\"Open In Colab\"/></a>"
      ]
    },
    {
      "cell_type": "code",
      "metadata": {
        "id": "klQKxGMnAJ4U",
        "colab_type": "code",
        "colab": {}
      },
      "source": [
        "import numpy as np"
      ],
      "execution_count": 0,
      "outputs": []
    },
    {
      "cell_type": "code",
      "metadata": {
        "id": "f92vJubCAfa0",
        "colab_type": "code",
        "colab": {}
      },
      "source": [
        "w = [0.4,-0.6,0.6,0.5]\n",
        "x = [0,0,1,-1]\n",
        "y=0\n",
        "n = 0.4"
      ],
      "execution_count": 0,
      "outputs": []
    },
    {
      "cell_type": "code",
      "metadata": {
        "id": "azIBviCTAnLU",
        "colab_type": "code",
        "outputId": "e797a327-2fa1-41d1-97c5-edf26b238e47",
        "colab": {
          "base_uri": "https://localhost:8080/",
          "height": 34
        }
      },
      "source": [
        "u = x[0]*w[0] +  x[1]*w[1] + x[2]*w[2] -1*w[3]\n",
        "print(u)"
      ],
      "execution_count": 136,
      "outputs": [
        {
          "output_type": "stream",
          "text": [
            "0.09999999999999998\n"
          ],
          "name": "stdout"
        }
      ]
    },
    {
      "cell_type": "code",
      "metadata": {
        "id": "whysuK4JBQRT",
        "colab_type": "code",
        "outputId": "54fb0429-204f-42ef-efd2-6e1aa8bc0246",
        "colab": {
          "base_uri": "https://localhost:8080/",
          "height": 34
        }
      },
      "source": [
        "if(u>0):\n",
        "  y=1\n",
        "else:\n",
        "  y=-1\n",
        "print(y)"
      ],
      "execution_count": 137,
      "outputs": [
        {
          "output_type": "stream",
          "text": [
            "1\n"
          ],
          "name": "stdout"
        }
      ]
    },
    {
      "cell_type": "code",
      "metadata": {
        "id": "zeBbhlV3FR1N",
        "colab_type": "code",
        "outputId": "0287432d-4671-4cfd-93e7-0561fa6d5811",
        "colab": {
          "base_uri": "https://localhost:8080/",
          "height": 102
        }
      },
      "source": [
        "for i in range(4):\n",
        "  w[i] = w[i] +  n*x[i]*(-1-y)\n",
        "  print(x[i])\n",
        "print(w, \"depois\")"
      ],
      "execution_count": 138,
      "outputs": [
        {
          "output_type": "stream",
          "text": [
            "0\n",
            "0\n",
            "1\n",
            "-1\n",
            "[0.4, -0.6, -0.20000000000000007, 1.3] depois\n"
          ],
          "name": "stdout"
        }
      ]
    },
    {
      "cell_type": "code",
      "metadata": {
        "id": "jwTVnl8CIywT",
        "colab_type": "code",
        "outputId": "3e828c77-fa3f-4f1a-e6df-0ff1d29d52c0",
        "colab": {
          "base_uri": "https://localhost:8080/",
          "height": 34
        }
      },
      "source": [
        "x = [1,1,0,-1]\n",
        "u = x[0]*w[0] +  x[1]*w[1] + x[2]*w[2] -1*w[3]\n",
        "print(u)"
      ],
      "execution_count": 139,
      "outputs": [
        {
          "output_type": "stream",
          "text": [
            "-1.5\n"
          ],
          "name": "stdout"
        }
      ]
    },
    {
      "cell_type": "code",
      "metadata": {
        "id": "Q-A3gfHRJJYX",
        "colab_type": "code",
        "outputId": "bbc57ff6-4742-4686-e7a8-6b10a365c9f7",
        "colab": {
          "base_uri": "https://localhost:8080/",
          "height": 34
        }
      },
      "source": [
        "if(u>0):\n",
        "  y=1\n",
        "else:\n",
        "  y=-1\n",
        "print(y)"
      ],
      "execution_count": 140,
      "outputs": [
        {
          "output_type": "stream",
          "text": [
            "-1\n"
          ],
          "name": "stdout"
        }
      ]
    },
    {
      "cell_type": "code",
      "metadata": {
        "id": "mCwE9XcoJKQJ",
        "colab_type": "code",
        "outputId": "a1871782-23de-4f8f-9fc6-658b2ec52f5e",
        "colab": {
          "base_uri": "https://localhost:8080/",
          "height": 102
        }
      },
      "source": [
        "for i in range(4):\n",
        "  w[i] = w[i] +  n*x[i]*(1-y)\n",
        "  print(x[i])\n",
        "print(w, \"depois\")"
      ],
      "execution_count": 141,
      "outputs": [
        {
          "output_type": "stream",
          "text": [
            "1\n",
            "1\n",
            "0\n",
            "-1\n",
            "[1.2000000000000002, 0.20000000000000007, -0.20000000000000007, 0.5] depois\n"
          ],
          "name": "stdout"
        }
      ]
    },
    {
      "cell_type": "code",
      "metadata": {
        "id": "Cg7sHZ6KJTRv",
        "colab_type": "code",
        "outputId": "9fbfd8f3-20ba-40cd-d97a-b257850d148e",
        "colab": {
          "base_uri": "https://localhost:8080/",
          "height": 34
        }
      },
      "source": [
        "x = [0,0,1,-1]\n",
        "u = x[0]*w[0] +  x[1]*w[1] + x[2]*w[2] -1*w[3]\n",
        "print(u)"
      ],
      "execution_count": 142,
      "outputs": [
        {
          "output_type": "stream",
          "text": [
            "-0.7000000000000001\n"
          ],
          "name": "stdout"
        }
      ]
    },
    {
      "cell_type": "code",
      "metadata": {
        "id": "wFWo3PIKJo9O",
        "colab_type": "code",
        "outputId": "19db43b8-3468-416b-f474-885f39e07106",
        "colab": {
          "base_uri": "https://localhost:8080/",
          "height": 34
        }
      },
      "source": [
        "if(u>0):\n",
        "  y=1\n",
        "else:\n",
        "  y=-1\n",
        "print(y)"
      ],
      "execution_count": 143,
      "outputs": [
        {
          "output_type": "stream",
          "text": [
            "-1\n"
          ],
          "name": "stdout"
        }
      ]
    },
    {
      "cell_type": "code",
      "metadata": {
        "id": "yUed0g0YMIht",
        "colab_type": "code",
        "outputId": "84e8f6f6-7c71-41c5-f708-c6317ee481ae",
        "colab": {
          "base_uri": "https://localhost:8080/",
          "height": 102
        }
      },
      "source": [
        "for i in range(4):\n",
        "  w[i] = w[i] +  n*x[i]*(-1-y)\n",
        "  print(x[i])\n",
        "print(w, \"depois\")"
      ],
      "execution_count": 144,
      "outputs": [
        {
          "output_type": "stream",
          "text": [
            "0\n",
            "0\n",
            "1\n",
            "-1\n",
            "[1.2000000000000002, 0.20000000000000007, -0.20000000000000007, 0.5] depois\n"
          ],
          "name": "stdout"
        }
      ]
    },
    {
      "cell_type": "code",
      "metadata": {
        "id": "6pf3zhqbMKLe",
        "colab_type": "code",
        "outputId": "40668cbc-d878-450e-dc2a-ae9d5d9b1ac0",
        "colab": {
          "base_uri": "https://localhost:8080/",
          "height": 34
        }
      },
      "source": [
        "x = [1,1,0,-1]\n",
        "u = x[0]*w[0] +  x[1]*w[1] + x[2]*w[2] -1*w[3]\n",
        "print(u)"
      ],
      "execution_count": 145,
      "outputs": [
        {
          "output_type": "stream",
          "text": [
            "0.9000000000000004\n"
          ],
          "name": "stdout"
        }
      ]
    },
    {
      "cell_type": "code",
      "metadata": {
        "id": "OfAQnweBMMQv",
        "colab_type": "code",
        "outputId": "5670fe15-6334-443c-c608-7f0498cef359",
        "colab": {
          "base_uri": "https://localhost:8080/",
          "height": 34
        }
      },
      "source": [
        "if(u>0):\n",
        "  y=1\n",
        "else:\n",
        "  y=-1\n",
        "print(y)"
      ],
      "execution_count": 146,
      "outputs": [
        {
          "output_type": "stream",
          "text": [
            "1\n"
          ],
          "name": "stdout"
        }
      ]
    },
    {
      "cell_type": "code",
      "metadata": {
        "id": "QXcDEZcIMOTa",
        "colab_type": "code",
        "outputId": "82ce2339-2601-4954-d88d-6375a865bc0e",
        "colab": {
          "base_uri": "https://localhost:8080/",
          "height": 102
        }
      },
      "source": [
        "for i in range(4):\n",
        "  w[i] = w[i] +  n*x[i]*(1-y)\n",
        "  print(x[i])\n",
        "print(w, \"depois\")"
      ],
      "execution_count": 147,
      "outputs": [
        {
          "output_type": "stream",
          "text": [
            "1\n",
            "1\n",
            "0\n",
            "-1\n",
            "[1.2000000000000002, 0.20000000000000007, -0.20000000000000007, 0.5] depois\n"
          ],
          "name": "stdout"
        }
      ]
    },
    {
      "cell_type": "code",
      "metadata": {
        "id": "fCHyD8g6MQgQ",
        "colab_type": "code",
        "colab": {
          "base_uri": "https://localhost:8080/",
          "height": 51
        },
        "outputId": "8c707dee-ec90-4f19-cd8e-59ac9488436d"
      },
      "source": [
        "x = [1,1,1,-1]\n",
        "u = x[0]*w[0] +  x[1]*w[1] + x[2]*w[2] -1*w[3]\n",
        "print(u)\n",
        "\n",
        "if(u>0):\n",
        "  y=1\n",
        "else:\n",
        "  y=-1\n",
        "print(y)"
      ],
      "execution_count": 149,
      "outputs": [
        {
          "output_type": "stream",
          "text": [
            "0.7000000000000002\n",
            "1\n"
          ],
          "name": "stdout"
        }
      ]
    },
    {
      "cell_type": "code",
      "metadata": {
        "id": "dqK2Qmi1TzUi",
        "colab_type": "code",
        "colab": {
          "base_uri": "https://localhost:8080/",
          "height": 51
        },
        "outputId": "431c3113-7eb4-4033-a1fc-54213fa4f87c"
      },
      "source": [
        "x = [0,0,0,-1]\n",
        "u = x[0]*w[0] +  x[1]*w[1] + x[2]*w[2] -1*w[3]\n",
        "print(u)\n",
        "\n",
        "if(u>0):\n",
        "  y=1\n",
        "else:\n",
        "  y=-1\n",
        "print(y)"
      ],
      "execution_count": 152,
      "outputs": [
        {
          "output_type": "stream",
          "text": [
            "-0.5\n",
            "-1\n"
          ],
          "name": "stdout"
        }
      ]
    },
    {
      "cell_type": "code",
      "metadata": {
        "id": "Nn_FvbH6Tzu7",
        "colab_type": "code",
        "colab": {
          "base_uri": "https://localhost:8080/",
          "height": 51
        },
        "outputId": "e2adf3f6-ac2d-4f7e-8e07-ee5ebe5b4360"
      },
      "source": [
        "x = [1,0,0,-1]\n",
        "u = x[0]*w[0] +  x[1]*w[1] + x[2]*w[2] -1*w[3]\n",
        "print(u)\n",
        "\n",
        "if(u>0):\n",
        "  y=1\n",
        "else:\n",
        "  y=-1\n",
        "print(y)"
      ],
      "execution_count": 153,
      "outputs": [
        {
          "output_type": "stream",
          "text": [
            "0.7000000000000002\n",
            "1\n"
          ],
          "name": "stdout"
        }
      ]
    },
    {
      "cell_type": "code",
      "metadata": {
        "id": "x0B1W-kXT0DE",
        "colab_type": "code",
        "colab": {
          "base_uri": "https://localhost:8080/",
          "height": 51
        },
        "outputId": "eafd26c7-93fd-476d-fefa-1fd62fc43c71"
      },
      "source": [
        "x = [0,1,1,-1]\n",
        "u = x[0]*w[0] +  x[1]*w[1] + x[2]*w[2] -1*w[3]\n",
        "print(u)\n",
        "\n",
        "if(u>0):\n",
        "  y=1\n",
        "else:\n",
        "  y=-1\n",
        "print(y)"
      ],
      "execution_count": 154,
      "outputs": [
        {
          "output_type": "stream",
          "text": [
            "-0.5\n",
            "-1\n"
          ],
          "name": "stdout"
        }
      ]
    }
  ]
}