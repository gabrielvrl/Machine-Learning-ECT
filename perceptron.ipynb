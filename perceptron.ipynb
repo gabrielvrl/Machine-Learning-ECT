{
  "nbformat": 4,
  "nbformat_minor": 0,
  "metadata": {
    "colab": {
      "name": "perceptron.ipynb",
      "version": "0.3.2",
      "provenance": [],
      "collapsed_sections": [],
      "include_colab_link": true
    },
    "kernelspec": {
      "name": "python3",
      "display_name": "Python 3"
    }
  },
  "cells": [
    {
      "cell_type": "markdown",
      "metadata": {
        "id": "view-in-github",
        "colab_type": "text"
      },
      "source": [
        "<a href=\"https://colab.research.google.com/github/gabrielvrl/Machine-Learning-ECT/blob/master/perceptron.ipynb\" target=\"_parent\"><img src=\"https://colab.research.google.com/assets/colab-badge.svg\" alt=\"Open In Colab\"/></a>"
      ]
    },
    {
      "cell_type": "code",
      "metadata": {
        "id": "klQKxGMnAJ4U",
        "colab_type": "code",
        "colab": {}
      },
      "source": [
        "import numpy as np"
      ],
      "execution_count": 0,
      "outputs": []
    },
    {
      "cell_type": "code",
      "metadata": {
        "id": "f92vJubCAfa0",
        "colab_type": "code",
        "colab": {}
      },
      "source": [
        "w = [0.4,-0.6,0.6,0.5]\n",
        "x = [0,0,1,-1]\n",
        "y=0\n",
        "n = 0.4"
      ],
      "execution_count": 0,
      "outputs": []
    },
    {
      "cell_type": "code",
      "metadata": {
        "id": "azIBviCTAnLU",
        "colab_type": "code",
        "colab": {
          "base_uri": "https://localhost:8080/",
          "height": 34
        },
        "outputId": "6cba2da3-6a90-4282-f525-13724c652d03"
      },
      "source": [
        "u = x[0]*w[0] +  x[1]*w[1] + x[2]*w[2] -1*w[3]\n",
        "print(u)"
      ],
      "execution_count": 85,
      "outputs": [
        {
          "output_type": "stream",
          "text": [
            "0.09999999999999998\n"
          ],
          "name": "stdout"
        }
      ]
    },
    {
      "cell_type": "code",
      "metadata": {
        "id": "whysuK4JBQRT",
        "colab_type": "code",
        "colab": {
          "base_uri": "https://localhost:8080/",
          "height": 34
        },
        "outputId": "293331bc-7f65-4c93-eb01-9955b68e918a"
      },
      "source": [
        "if(u>0):\n",
        "  y=1\n",
        "else:\n",
        "  y=-1\n",
        "print(y)"
      ],
      "execution_count": 86,
      "outputs": [
        {
          "output_type": "stream",
          "text": [
            "1\n"
          ],
          "name": "stdout"
        }
      ]
    },
    {
      "cell_type": "code",
      "metadata": {
        "id": "zeBbhlV3FR1N",
        "colab_type": "code",
        "colab": {
          "base_uri": "https://localhost:8080/",
          "height": 102
        },
        "outputId": "cc440327-9c45-4e96-d73a-3832fff9e82a"
      },
      "source": [
        "for i in range(4):\n",
        "  w[i] = w[i] +  n*x[i]*(-1-y)\n",
        "  print(x[i])\n",
        "print(w, \"depois\")"
      ],
      "execution_count": 87,
      "outputs": [
        {
          "output_type": "stream",
          "text": [
            "0\n",
            "0\n",
            "1\n",
            "-1\n",
            "[0.4, -0.6, -0.20000000000000007, 1.3] depois\n"
          ],
          "name": "stdout"
        }
      ]
    },
    {
      "cell_type": "code",
      "metadata": {
        "id": "jwTVnl8CIywT",
        "colab_type": "code",
        "colab": {
          "base_uri": "https://localhost:8080/",
          "height": 34
        },
        "outputId": "cb8cc72e-71be-49dc-c2ca-71d10d9fa984"
      },
      "source": [
        "x = [1,1,0,-1]\n",
        "u = x[0]*w[0] +  x[1]*w[1] + x[2]*w[2] -1*w[3]\n",
        "print(u)"
      ],
      "execution_count": 88,
      "outputs": [
        {
          "output_type": "stream",
          "text": [
            "-1.5\n"
          ],
          "name": "stdout"
        }
      ]
    },
    {
      "cell_type": "code",
      "metadata": {
        "id": "Q-A3gfHRJJYX",
        "colab_type": "code",
        "colab": {
          "base_uri": "https://localhost:8080/",
          "height": 34
        },
        "outputId": "73dd1393-43e4-42bd-f5d9-805c3c148f9c"
      },
      "source": [
        "if(u>0):\n",
        "  y=1\n",
        "else:\n",
        "  y=-1\n",
        "print(y)"
      ],
      "execution_count": 89,
      "outputs": [
        {
          "output_type": "stream",
          "text": [
            "-1\n"
          ],
          "name": "stdout"
        }
      ]
    },
    {
      "cell_type": "code",
      "metadata": {
        "id": "mCwE9XcoJKQJ",
        "colab_type": "code",
        "colab": {
          "base_uri": "https://localhost:8080/",
          "height": 102
        },
        "outputId": "496bdd5a-4270-4275-93fe-a8c0ab4b57b1"
      },
      "source": [
        "for i in range(4):\n",
        "  w[i] = w[i] +  n*x[i]*(1-y)\n",
        "  print(x[i])\n",
        "print(w, \"depois\")"
      ],
      "execution_count": 90,
      "outputs": [
        {
          "output_type": "stream",
          "text": [
            "1\n",
            "1\n",
            "0\n",
            "-1\n",
            "[1.2000000000000002, 0.20000000000000007, -0.20000000000000007, 0.5] depois\n"
          ],
          "name": "stdout"
        }
      ]
    },
    {
      "cell_type": "code",
      "metadata": {
        "id": "Cg7sHZ6KJTRv",
        "colab_type": "code",
        "colab": {
          "base_uri": "https://localhost:8080/",
          "height": 34
        },
        "outputId": "3ec0a761-f121-48c2-be47-b6d53ff5775a"
      },
      "source": [
        "x = [1,1,1,-1]\n",
        "u = x[0]*w[0] +  x[1]*w[1] + x[2]*w[2] -1*w[3]\n",
        "print(u)"
      ],
      "execution_count": 91,
      "outputs": [
        {
          "output_type": "stream",
          "text": [
            "0.7000000000000002\n"
          ],
          "name": "stdout"
        }
      ]
    },
    {
      "cell_type": "code",
      "metadata": {
        "id": "wFWo3PIKJo9O",
        "colab_type": "code",
        "colab": {
          "base_uri": "https://localhost:8080/",
          "height": 34
        },
        "outputId": "d0bf29d5-e732-4e1b-a31c-aacc7010d06f"
      },
      "source": [
        "x = [0,0,1,-1]\n",
        "u = x[0]*w[0] +  x[1]*w[1] + x[2]*w[2] -1*w[3]\n",
        "print(u)"
      ],
      "execution_count": 92,
      "outputs": [
        {
          "output_type": "stream",
          "text": [
            "-0.7000000000000001\n"
          ],
          "name": "stdout"
        }
      ]
    }
  ]
}