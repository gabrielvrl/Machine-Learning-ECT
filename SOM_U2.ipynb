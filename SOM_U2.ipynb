{
  "nbformat": 4,
  "nbformat_minor": 0,
  "metadata": {
    "colab": {
      "name": "SOM_U2",
      "provenance": [],
      "include_colab_link": true
    },
    "kernelspec": {
      "name": "python3",
      "display_name": "Python 3"
    }
  },
  "cells": [
    {
      "cell_type": "markdown",
      "metadata": {
        "id": "view-in-github",
        "colab_type": "text"
      },
      "source": [
        "<a href=\"https://colab.research.google.com/github/gabrielvrl/Machine-Learning-ECT/blob/master/SOM_U2.ipynb\" target=\"_parent\"><img src=\"https://colab.research.google.com/assets/colab-badge.svg\" alt=\"Open In Colab\"/></a>"
      ]
    },
    {
      "cell_type": "code",
      "metadata": {
        "id": "6dMud6mzaWkM",
        "colab_type": "code",
        "outputId": "f98ed4cc-0385-4fe1-ac8f-50dc37f79e44",
        "colab": {
          "base_uri": "https://localhost:8080/",
          "height": 411
        }
      },
      "source": [
        "import pandas as pd\n",
        "import numpy as np\n",
        "dataSet =  pd.read_csv(\"https://raw.githubusercontent.com/ect-info/ml/master/dados/lop_submissao_semana.csv\",index_col=False )\n",
        "\n",
        "dataSet['situacao'] = pd.Categorical(dataSet['situacao'])\n",
        "dataSet['situacao'] = dataSet['situacao'].cat.codes\n",
        "\n",
        "dataSet.head()\n"
      ],
      "execution_count": 0,
      "outputs": [
        {
          "output_type": "execute_result",
          "data": {
            "text/html": [
              "<div>\n",
              "<style scoped>\n",
              "    .dataframe tbody tr th:only-of-type {\n",
              "        vertical-align: middle;\n",
              "    }\n",
              "\n",
              "    .dataframe tbody tr th {\n",
              "        vertical-align: top;\n",
              "    }\n",
              "\n",
              "    .dataframe thead th {\n",
              "        text-align: right;\n",
              "    }\n",
              "</style>\n",
              "<table border=\"1\" class=\"dataframe\">\n",
              "  <thead>\n",
              "    <tr style=\"text-align: right;\">\n",
              "      <th></th>\n",
              "      <th>Unnamed: 0</th>\n",
              "      <th>anoSubmissao</th>\n",
              "      <th>semana 1</th>\n",
              "      <th>semana 2</th>\n",
              "      <th>semana 3</th>\n",
              "      <th>semana 4</th>\n",
              "      <th>semana 5</th>\n",
              "      <th>semana 6</th>\n",
              "      <th>semana 7</th>\n",
              "      <th>semana 8</th>\n",
              "      <th>semana 9</th>\n",
              "      <th>semana 10</th>\n",
              "      <th>semana 11</th>\n",
              "      <th>semana 12</th>\n",
              "      <th>semana 13</th>\n",
              "      <th>semana 14</th>\n",
              "      <th>semana 15</th>\n",
              "      <th>semana 16</th>\n",
              "      <th>semana 17</th>\n",
              "      <th>semana 18</th>\n",
              "      <th>semana 19</th>\n",
              "      <th>semana 20</th>\n",
              "      <th>semana 21</th>\n",
              "      <th>anoTurma</th>\n",
              "      <th>descricaoTurma</th>\n",
              "      <th>situacao</th>\n",
              "      <th>anoSigaa</th>\n",
              "      <th>turma</th>\n",
              "    </tr>\n",
              "  </thead>\n",
              "  <tbody>\n",
              "    <tr>\n",
              "      <th>0</th>\n",
              "      <td>0</td>\n",
              "      <td>2017.2</td>\n",
              "      <td>0.0</td>\n",
              "      <td>0.0</td>\n",
              "      <td>0.0</td>\n",
              "      <td>5.0</td>\n",
              "      <td>14.0</td>\n",
              "      <td>5.0</td>\n",
              "      <td>0.0</td>\n",
              "      <td>15.0</td>\n",
              "      <td>10.0</td>\n",
              "      <td>0.0</td>\n",
              "      <td>0.0</td>\n",
              "      <td>16.0</td>\n",
              "      <td>3.0</td>\n",
              "      <td>0.0</td>\n",
              "      <td>0.0</td>\n",
              "      <td>20.0</td>\n",
              "      <td>0.0</td>\n",
              "      <td>9.0</td>\n",
              "      <td>0.0</td>\n",
              "      <td>0.0</td>\n",
              "      <td>0.0</td>\n",
              "      <td>2017.2</td>\n",
              "      <td>LÓGICA DE PROGRAMAÇÃO - Turma 01A</td>\n",
              "      <td>0</td>\n",
              "      <td>2017.2</td>\n",
              "      <td>01A</td>\n",
              "    </tr>\n",
              "    <tr>\n",
              "      <th>1</th>\n",
              "      <td>1</td>\n",
              "      <td>2017.2</td>\n",
              "      <td>0.0</td>\n",
              "      <td>0.0</td>\n",
              "      <td>0.0</td>\n",
              "      <td>5.0</td>\n",
              "      <td>0.0</td>\n",
              "      <td>6.0</td>\n",
              "      <td>0.0</td>\n",
              "      <td>3.0</td>\n",
              "      <td>0.0</td>\n",
              "      <td>0.0</td>\n",
              "      <td>0.0</td>\n",
              "      <td>0.0</td>\n",
              "      <td>0.0</td>\n",
              "      <td>0.0</td>\n",
              "      <td>0.0</td>\n",
              "      <td>0.0</td>\n",
              "      <td>0.0</td>\n",
              "      <td>0.0</td>\n",
              "      <td>0.0</td>\n",
              "      <td>4.0</td>\n",
              "      <td>0.0</td>\n",
              "      <td>2017.2</td>\n",
              "      <td>LÓGICA DE PROGRAMAÇÃO - Turma 01B</td>\n",
              "      <td>1</td>\n",
              "      <td>2017.2</td>\n",
              "      <td>01B</td>\n",
              "    </tr>\n",
              "    <tr>\n",
              "      <th>2</th>\n",
              "      <td>2</td>\n",
              "      <td>2017.2</td>\n",
              "      <td>0.0</td>\n",
              "      <td>0.0</td>\n",
              "      <td>0.0</td>\n",
              "      <td>5.0</td>\n",
              "      <td>0.0</td>\n",
              "      <td>5.0</td>\n",
              "      <td>0.0</td>\n",
              "      <td>14.0</td>\n",
              "      <td>2.0</td>\n",
              "      <td>0.0</td>\n",
              "      <td>0.0</td>\n",
              "      <td>4.0</td>\n",
              "      <td>0.0</td>\n",
              "      <td>5.0</td>\n",
              "      <td>6.0</td>\n",
              "      <td>2.0</td>\n",
              "      <td>1.0</td>\n",
              "      <td>0.0</td>\n",
              "      <td>0.0</td>\n",
              "      <td>0.0</td>\n",
              "      <td>0.0</td>\n",
              "      <td>2017.2</td>\n",
              "      <td>LÓGICA DE PROGRAMAÇÃO - Turma 01B</td>\n",
              "      <td>0</td>\n",
              "      <td>2017.2</td>\n",
              "      <td>01B</td>\n",
              "    </tr>\n",
              "    <tr>\n",
              "      <th>3</th>\n",
              "      <td>3</td>\n",
              "      <td>2017.2</td>\n",
              "      <td>0.0</td>\n",
              "      <td>0.0</td>\n",
              "      <td>0.0</td>\n",
              "      <td>3.0</td>\n",
              "      <td>0.0</td>\n",
              "      <td>6.0</td>\n",
              "      <td>0.0</td>\n",
              "      <td>8.0</td>\n",
              "      <td>3.0</td>\n",
              "      <td>0.0</td>\n",
              "      <td>0.0</td>\n",
              "      <td>5.0</td>\n",
              "      <td>0.0</td>\n",
              "      <td>2.0</td>\n",
              "      <td>2.0</td>\n",
              "      <td>2.0</td>\n",
              "      <td>0.0</td>\n",
              "      <td>0.0</td>\n",
              "      <td>0.0</td>\n",
              "      <td>0.0</td>\n",
              "      <td>0.0</td>\n",
              "      <td>2017.2</td>\n",
              "      <td>LÓGICA DE PROGRAMAÇÃO - Turma 01B</td>\n",
              "      <td>0</td>\n",
              "      <td>2017.2</td>\n",
              "      <td>01B</td>\n",
              "    </tr>\n",
              "    <tr>\n",
              "      <th>4</th>\n",
              "      <td>4</td>\n",
              "      <td>2017.2</td>\n",
              "      <td>0.0</td>\n",
              "      <td>0.0</td>\n",
              "      <td>0.0</td>\n",
              "      <td>3.0</td>\n",
              "      <td>0.0</td>\n",
              "      <td>6.0</td>\n",
              "      <td>0.0</td>\n",
              "      <td>0.0</td>\n",
              "      <td>3.0</td>\n",
              "      <td>0.0</td>\n",
              "      <td>0.0</td>\n",
              "      <td>0.0</td>\n",
              "      <td>0.0</td>\n",
              "      <td>0.0</td>\n",
              "      <td>0.0</td>\n",
              "      <td>0.0</td>\n",
              "      <td>4.0</td>\n",
              "      <td>0.0</td>\n",
              "      <td>0.0</td>\n",
              "      <td>0.0</td>\n",
              "      <td>0.0</td>\n",
              "      <td>2017.2</td>\n",
              "      <td>LÓGICA DE PROGRAMAÇÃO - Turma 01B</td>\n",
              "      <td>1</td>\n",
              "      <td>2017.2</td>\n",
              "      <td>01B</td>\n",
              "    </tr>\n",
              "  </tbody>\n",
              "</table>\n",
              "</div>"
            ],
            "text/plain": [
              "   Unnamed: 0  anoSubmissao  semana 1  ...  situacao  anoSigaa  turma\n",
              "0           0        2017.2       0.0  ...         0    2017.2    01A\n",
              "1           1        2017.2       0.0  ...         1    2017.2    01B\n",
              "2           2        2017.2       0.0  ...         0    2017.2    01B\n",
              "3           3        2017.2       0.0  ...         0    2017.2    01B\n",
              "4           4        2017.2       0.0  ...         1    2017.2    01B\n",
              "\n",
              "[5 rows x 28 columns]"
            ]
          },
          "metadata": {
            "tags": []
          },
          "execution_count": 1
        }
      ]
    },
    {
      "cell_type": "code",
      "metadata": {
        "id": "b671HggmiIH9",
        "colab_type": "code",
        "outputId": "4c85af20-a133-4116-9c48-4a098bae3d3d",
        "colab": {
          "base_uri": "https://localhost:8080/",
          "height": 170
        }
      },
      "source": [
        "# Instalando a MiniSOM\n",
        "!pip install minisom"
      ],
      "execution_count": 0,
      "outputs": [
        {
          "output_type": "stream",
          "text": [
            "Collecting minisom\n",
            "  Downloading https://files.pythonhosted.org/packages/bf/dd/b9089c073cc16c4f86758bf7668d056956b9cfb2b539d9d50151e1713fe0/MiniSom-2.2.1.tar.gz\n",
            "Building wheels for collected packages: minisom\n",
            "  Building wheel for minisom (setup.py) ... \u001b[?25l\u001b[?25hdone\n",
            "  Created wheel for minisom: filename=MiniSom-2.2.1-cp36-none-any.whl size=6643 sha256=e6b842edbd7c1a39df4eeb27b1015fa1a0c0086fc560f45db6ed71b5b8ec2617\n",
            "  Stored in directory: /root/.cache/pip/wheels/41/42/7d/dd12b479c5ea50cd572d91b8e935e4f11e1302acca329f84e0\n",
            "Successfully built minisom\n",
            "Installing collected packages: minisom\n",
            "Successfully installed minisom-2.2.1\n"
          ],
          "name": "stdout"
        }
      ]
    },
    {
      "cell_type": "code",
      "metadata": {
        "id": "jKebCbz5pV--",
        "colab_type": "code",
        "outputId": "c500b4b1-8ab7-4b90-8bd1-0665463a949d",
        "colab": {
          "base_uri": "https://localhost:8080/",
          "height": 578
        }
      },
      "source": [
        "dataSet.info()"
      ],
      "execution_count": 0,
      "outputs": [
        {
          "output_type": "stream",
          "text": [
            "<class 'pandas.core.frame.DataFrame'>\n",
            "RangeIndex: 948 entries, 0 to 947\n",
            "Data columns (total 28 columns):\n",
            "Unnamed: 0        948 non-null int64\n",
            "anoSubmissao      948 non-null float64\n",
            "semana 1          948 non-null float64\n",
            "semana 2          948 non-null float64\n",
            "semana 3          948 non-null float64\n",
            "semana 4          948 non-null float64\n",
            "semana 5          948 non-null float64\n",
            "semana 6          948 non-null float64\n",
            "semana 7          948 non-null float64\n",
            "semana 8          948 non-null float64\n",
            "semana 9          948 non-null float64\n",
            "semana 10         948 non-null float64\n",
            "semana 11         948 non-null float64\n",
            "semana 12         948 non-null float64\n",
            "semana 13         948 non-null float64\n",
            "semana 14         948 non-null float64\n",
            "semana 15         948 non-null float64\n",
            "semana 16         948 non-null float64\n",
            "semana 17         948 non-null float64\n",
            "semana 18         948 non-null float64\n",
            "semana 19         948 non-null float64\n",
            "semana 20         948 non-null float64\n",
            "semana 21         948 non-null float64\n",
            "anoTurma          948 non-null float64\n",
            "descricaoTurma    948 non-null object\n",
            "situacao          948 non-null int8\n",
            "anoSigaa          948 non-null float64\n",
            "turma             948 non-null object\n",
            "dtypes: float64(24), int64(1), int8(1), object(2)\n",
            "memory usage: 201.0+ KB\n"
          ],
          "name": "stdout"
        }
      ]
    },
    {
      "cell_type": "code",
      "metadata": {
        "id": "1v5ZcsWKrBT5",
        "colab_type": "code",
        "outputId": "1cff0a98-3e23-4964-c4d4-2836d24f5308",
        "colab": {
          "base_uri": "https://localhost:8080/",
          "height": 51
        }
      },
      "source": [
        "\n",
        "X_train = dataSet.iloc[:,2:23].values \n",
        "target_train = dataSet.iloc[:,25].values\n",
        "\n",
        "[row, col] = X_train.shape\n",
        "print (row,\" \",col)\n",
        "\n",
        "print(X_train[1,:])"
      ],
      "execution_count": 0,
      "outputs": [
        {
          "output_type": "stream",
          "text": [
            "948   21\n",
            "[0. 0. 0. 5. 0. 6. 0. 3. 0. 0. 0. 0. 0. 0. 0. 0. 0. 0. 0. 4. 0.]\n"
          ],
          "name": "stdout"
        }
      ]
    },
    {
      "cell_type": "code",
      "metadata": {
        "id": "VFzTUOvgijCt",
        "colab_type": "code",
        "colab": {}
      },
      "source": [
        "# Training the SOM\n",
        "tamanhoXdaRede = 7; \n",
        "tamanhoYdaRede = 7; \n",
        "\n",
        "quantidadeCaracteristicas = col\n",
        "from minisom import MiniSom\n",
        "som = MiniSom(x = tamanhoXdaRede, y = tamanhoYdaRede, input_len = quantidadeCaracteristicas, sigma = 1.0, learning_rate = 0.4)\n",
        "som.pca_weights_init(X_train)\n"
      ],
      "execution_count": 0,
      "outputs": []
    },
    {
      "cell_type": "code",
      "metadata": {
        "id": "jYpMVPlJio09",
        "colab_type": "code",
        "colab": {}
      },
      "source": [
        "som.train_random(data = X_train, num_iteration = 40000)"
      ],
      "execution_count": 0,
      "outputs": []
    },
    {
      "cell_type": "code",
      "metadata": {
        "id": "iuew1BSqirFm",
        "colab_type": "code",
        "colab": {}
      },
      "source": [
        "import matplotlib.pyplot as plt\n",
        "import numpy as np\n",
        "# Obtem o vetor de pesos da rede treinada \n",
        "pesos = som.get_weights()"
      ],
      "execution_count": 0,
      "outputs": []
    },
    {
      "cell_type": "code",
      "metadata": {
        "id": "VV-ZX008itZH",
        "colab_type": "code",
        "outputId": "6906c50e-4ffe-4324-9d7e-7e359a43acef",
        "colab": {
          "base_uri": "https://localhost:8080/",
          "height": 269
        }
      },
      "source": [
        "# Mostra um peso \n",
        "x = np.arange(quantidadeCaracteristicas)\n",
        "plt.bar(x, pesos[1,2,:])\n",
        "plt.show()"
      ],
      "execution_count": 0,
      "outputs": [
        {
          "output_type": "display_data",
          "data": {
            "image/png": "[encoded data removed]",
            "text/plain": [
              "<Figure size 432x288 with 1 Axes>"
            ]
          },
          "metadata": {
            "tags": []
          }
        }
      ]
    },
    {
      "cell_type": "code",
      "metadata": {
        "id": "q-n_i_r4Dpfs",
        "colab_type": "code",
        "outputId": "75488462-1b3f-40a4-df82-66899e4f5048",
        "colab": {
          "base_uri": "https://localhost:8080/",
          "height": 34
        }
      },
      "source": [
        "# obtendo os valores das repostas \n",
        "Y_train = target_train\n",
        "Y_train[1]"
      ],
      "execution_count": 0,
      "outputs": [
        {
          "output_type": "execute_result",
          "data": {
            "text/plain": [
              "1"
            ]
          },
          "metadata": {
            "tags": []
          },
          "execution_count": 9
        }
      ]
    },
    {
      "cell_type": "code",
      "metadata": {
        "id": "hZhflF8JDsXj",
        "colab_type": "code",
        "colab": {}
      },
      "source": [
        "# encontra o vencedor \n",
        "x = X_train[1,:]\n",
        "pos = som.winner(x)\n",
        "\n",
        "\n",
        "# matriz de zeros para contador de aprovados \n",
        "MContAp = np.zeros((tamanhoXdaRede,tamanhoYdaRede))\n",
        "# matriz de zeros para o contador de reprovados \n",
        "MContT = np.zeros((tamanhoXdaRede,tamanhoYdaRede))\n",
        "cont = 0; \n",
        "for x in X_train: \n",
        "  pos = som.winner(x)\n",
        "  if (Y_train[cont] <= 1): #Aprovado \n",
        "    MContAp[pos] += 1\n",
        "  MContT[pos] += 1\n",
        "  cont= cont+1"
      ],
      "execution_count": 0,
      "outputs": []
    },
    {
      "cell_type": "code",
      "metadata": {
        "id": "w2LgFfLQDvCt",
        "colab_type": "code",
        "outputId": "d0be8698-be6c-40db-ef41-f0d947a1e567",
        "colab": {
          "base_uri": "https://localhost:8080/",
          "height": 289
        }
      },
      "source": [
        "print(\"Total:\")\n",
        "print(MContT)\n",
        "\n",
        "\n",
        "print(\"Aprovados\")\n",
        "print(MContAp)"
      ],
      "execution_count": 0,
      "outputs": [
        {
          "output_type": "stream",
          "text": [
            "Total:\n",
            "[[ 12.   7.  10.  16.  22.   8.   7.]\n",
            " [ 20.  13.   7.  14.   6.  16.  11.]\n",
            " [ 26.  14.  12.  10.  19.  10.  14.]\n",
            " [ 20.  17.  20.  17.  24.  15.   6.]\n",
            " [ 37.  10.  22.   7.  21.  10.  11.]\n",
            " [ 32. 172.   9.  26.  15.  17.  15.]\n",
            " [ 17.  48.  33.  14.  17.  15.   7.]]\n",
            "Aprovados\n",
            "[[12.  7.  8. 16. 21.  8.  7.]\n",
            " [19. 12.  6. 11.  6. 15. 11.]\n",
            " [23. 12. 11. 10. 16.  9. 13.]\n",
            " [12. 11.  9. 13. 12. 10.  6.]\n",
            " [26.  7. 10.  5. 19. 10. 11.]\n",
            " [14. 42.  7. 24.  8. 13. 14.]\n",
            " [11. 34. 17. 13. 12. 11.  5.]]\n"
          ],
          "name": "stdout"
        }
      ]
    },
    {
      "cell_type": "code",
      "metadata": {
        "id": "9inC8IVJ-b5X",
        "colab_type": "code",
        "outputId": "4fe31843-45f8-4c90-c10a-03b15b23b8ba",
        "colab": {
          "base_uri": "https://localhost:8080/",
          "height": 255
        }
      },
      "source": [
        "#import matplotlib.pyplot as plt\n",
        "\n",
        "x = 3\n",
        "y = 2\n",
        "sizes = [x, y]\n",
        "explode = (0, 0.02, 0, 0)  # only \"explode\" the 2nd slice (i.e. 'Hogs')\n",
        "\n",
        "fig1, ax1 = plt.subplots()\n",
        "ax1.pie(sizes)\n",
        "ax1.axis('equal')  # Equal aspect ratio ensures that pie is drawn as a circle.\n",
        "\n",
        "plt.show()"
      ],
      "execution_count": 0,
      "outputs": [
        {
          "output_type": "display_data",
          "data": {
            "image/png": "[encoded data removed]",
            "text/plain": [
              "<Figure size 432x288 with 1 Axes>"
            ]
          },
          "metadata": {
            "tags": []
          }
        }
      ]
    },
    {
      "cell_type": "code",
      "metadata": {
        "id": "sbmnKXpbE3_b",
        "colab_type": "code",
        "outputId": "44177792-5bcb-4cc8-a304-4eaf71b46b29",
        "colab": {
          "base_uri": "https://localhost:8080/",
          "height": 255
        }
      },
      "source": [
        "\n",
        "cont = 1;\n",
        "for i in range(len(MContT)):\n",
        "  for j in range(len(MContT)):\n",
        "    plt.subplot(tamanhoXdaRede,tamanhoYdaRede,cont)\n",
        "    cont=cont+1\n",
        "    sizes = [MContAp[i][j],MContT[i][j]-MContAp[i][j]]\n",
        "    plt.pie(sizes)\n",
        "plt.show()"
      ],
      "execution_count": 0,
      "outputs": [
        {
          "output_type": "display_data",
          "data": {
            "image/png": "[encoded data removed]",
            "text/plain": [
              "<Figure size 432x288 with 49 Axes>"
            ]
          },
          "metadata": {
            "tags": []
          }
        }
      ]
    },
    {
      "cell_type": "code",
      "metadata": {
        "id": "h6pFW_8WE9xo",
        "colab_type": "code",
        "outputId": "ba66a2e7-6251-464b-8176-16ed7d85a20b",
        "colab": {
          "base_uri": "https://localhost:8080/",
          "height": 34
        }
      },
      "source": [
        "\n",
        "MContT[1][0]"
      ],
      "execution_count": 0,
      "outputs": [
        {
          "output_type": "execute_result",
          "data": {
            "text/plain": [
              "20.0"
            ]
          },
          "metadata": {
            "tags": []
          },
          "execution_count": 14
        }
      ]
    },
    {
      "cell_type": "code",
      "metadata": {
        "id": "aRQLCTZKDhFo",
        "colab_type": "code",
        "outputId": "5cc9384b-0d88-4729-ac39-bbe7f93ff9a1",
        "colab": {
          "base_uri": "https://localhost:8080/",
          "height": 269
        }
      },
      "source": [
        "# Mostra todos os pesos \n",
        "cont = 1;\n",
        "x = np.arange(quantidadeCaracteristicas)\n",
        "for row in pesos:\n",
        "  for elem in row:\n",
        "    plt.subplot(tamanhoXdaRede,tamanhoYdaRede,cont)\n",
        "    cont=cont+1\n",
        "    plt.axis([-1, 6, 0, 10])\n",
        "    plt.bar(x, elem)\n",
        "    plt.plot([-1,6],[5,5],'r')\n",
        "plt.show()\n",
        "#plt.savefig(\"test_som.jpg\", dpi=150)"
      ],
      "execution_count": 0,
      "outputs": [
        {
          "output_type": "display_data",
          "data": {
            "image/png": "[encoded data removed]",
            "text/plain": [
              "<Figure size 432x288 with 49 Axes>"
            ]
          },
          "metadata": {
            "tags": []
          }
        }
      ]
    },
    {
      "cell_type": "code",
      "metadata": {
        "id": "UVerKVFqR-8z",
        "colab_type": "code",
        "outputId": "c3edfdd6-9103-472e-c248-4fee66b4c119",
        "colab": {
          "base_uri": "https://localhost:8080/",
          "height": 255
        }
      },
      "source": [
        "c = np.divide(MContAp,MContT)\n",
        "# Substitui nan por 0 \n",
        "res = c\n",
        "where_are_NaNs = np.isnan(res)\n",
        "\n",
        "res[where_are_NaNs] = 0\n",
        "print(res)"
      ],
      "execution_count": 0,
      "outputs": [
        {
          "output_type": "stream",
          "text": [
            "[[1.         1.         0.8        1.         0.95454545 1.\n",
            "  1.        ]\n",
            " [0.95       0.92307692 0.85714286 0.78571429 1.         0.9375\n",
            "  1.        ]\n",
            " [0.88461538 0.85714286 0.91666667 1.         0.84210526 0.9\n",
            "  0.92857143]\n",
            " [0.6        0.64705882 0.45       0.76470588 0.5        0.66666667\n",
            "  1.        ]\n",
            " [0.7027027  0.7        0.45454545 0.71428571 0.9047619  1.\n",
            "  1.        ]\n",
            " [0.4375     0.24418605 0.77777778 0.92307692 0.53333333 0.76470588\n",
            "  0.93333333]\n",
            " [0.64705882 0.70833333 0.51515152 0.92857143 0.70588235 0.73333333\n",
            "  0.71428571]]\n"
          ],
          "name": "stdout"
        }
      ]
    },
    {
      "cell_type": "code",
      "metadata": {
        "id": "kX5LR1vG1INU",
        "colab_type": "code",
        "colab": {}
      },
      "source": [
        "def mostraNeuronio(linha,coluna): \n",
        "  # Mostra um peso \n",
        "  x = np.arange(quantidadeCaracteristicas)\n",
        "  plt.plot([-1,20],[5,5],'r')\n",
        "  plt.bar(x, pesos[linha,coluna,:])\n",
        "  plt.show()"
      ],
      "execution_count": 0,
      "outputs": []
    },
    {
      "cell_type": "code",
      "metadata": {
        "id": "cgWNutDW1joC",
        "colab_type": "code",
        "outputId": "8accdd84-fce8-44ab-d25c-79b376787699",
        "colab": {
          "base_uri": "https://localhost:8080/",
          "height": 269
        }
      },
      "source": [
        "# Probabilidade zero de passar em LoP\n",
        "mostraNeuronio(1,0)\n",
        "# Se ele reprova em todas ele não terá chances de passa em LoP"
      ],
      "execution_count": 0,
      "outputs": [
        {
          "output_type": "display_data",
          "data": {
            "image/png": "[encoded data removed]",
            "text/plain": [
              "<Figure size 432x288 with 1 Axes>"
            ]
          },
          "metadata": {
            "tags": []
          }
        }
      ]
    },
    {
      "cell_type": "code",
      "metadata": {
        "id": "QuheO7_X2BVM",
        "colab_type": "code",
        "outputId": "54d328da-d920-431d-991a-75f7b1241e06",
        "colab": {
          "base_uri": "https://localhost:8080/",
          "height": 269
        }
      },
      "source": [
        "# Perfil com total probabilidade de passar em LoP\n",
        "mostraNeuronio(4,5)\n"
      ],
      "execution_count": 0,
      "outputs": [
        {
          "output_type": "display_data",
          "data": {
            "image/png": "[encoded data removed]",
            "text/plain": [
              "<Figure size 432x288 with 1 Axes>"
            ]
          },
          "metadata": {
            "tags": []
          }
        }
      ]
    },
    {
      "cell_type": "code",
      "metadata": {
        "id": "KBK5eiep3QNb",
        "colab_type": "code",
        "outputId": "de0017b8-6f5f-43de-c0a1-bd78387ff093",
        "colab": {
          "base_uri": "https://localhost:8080/",
          "height": 269
        }
      },
      "source": [
        "# Probabilidade muito baixa de passar em LoP\n",
        "mostraNeuronio(0,4)"
      ],
      "execution_count": 0,
      "outputs": [
        {
          "output_type": "display_data",
          "data": {
            "image/png": "[encoded data removed]",
            "text/plain": [
              "<Figure size 432x288 with 1 Axes>"
            ]
          },
          "metadata": {
            "tags": []
          }
        }
      ]
    },
    {
      "cell_type": "markdown",
      "metadata": {
        "id": "PaaMmbQf7drw",
        "colab_type": "text"
      },
      "source": [
        "## Algumas observações \n",
        "\n",
        "*  Quando o aluno reprova com uma nota muito baixa em VGA ou Cálculo, as chances de passar em LoP reduzem muito.\n",
        "*  Ser reprovado em duas disciplinas também reduz muito as chances de passar em LoP. \n",
        "* As disciplinas de PLE e CTS parecem não influenciam tanto. Geralmente os alunos têm bons desempenhosnestes componentes."
      ]
    }
  ]
}