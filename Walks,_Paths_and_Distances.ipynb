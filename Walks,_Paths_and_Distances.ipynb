{
  "nbformat": 4,
  "nbformat_minor": 0,
  "metadata": {
    "colab": {
      "name": "Copy of Walks, Paths and Distances.ipynb",
      "provenance": [],
      "include_colab_link": true
    },
    "kernelspec": {
      "name": "python3",
      "display_name": "Python 3"
    },
    "language_info": {
      "name": "python"
    }
  },
  "cells": [
    {
      "cell_type": "markdown",
      "metadata": {
        "id": "view-in-github",
        "colab_type": "text"
      },
      "source": [
        "<a href=\"https://colab.research.google.com/github/gabrielvrl/Machine-Learning-ECT/blob/master/Walks%2C_Paths_and_Distances.ipynb\" target=\"_parent\"><img src=\"https://colab.research.google.com/assets/colab-badge.svg\" alt=\"Open In Colab\"/></a>"
      ]
    },
    {
      "cell_type": "code",
      "metadata": {
        "id": "--SEHn9LcaUZ"
      },
      "source": [
        "import numpy as np\n",
        "import networkx as nx\n",
        "import matplotlib.pyplot as plt"
      ],
      "execution_count": null,
      "outputs": []
    },
    {
      "cell_type": "code",
      "metadata": {
        "id": "rtH5MLCi2bJ3"
      },
      "source": [
        "# an adjacency matrix\n",
        "A = np.array([[0,1,1,1,0,0,0],\n",
        "                       [1,0,1,0,1,1,0],\n",
        "                       [1,1,0,1,0,1,0],\n",
        "                       [1,0,1,0,0,1,0],\n",
        "                       [0,1,0,0,0,1,0],\n",
        "                       [0,1,1,1,1,0,1],\n",
        "                       [0,0,0,0,0,1,0]])"
      ],
      "execution_count": null,
      "outputs": []
    },
    {
      "cell_type": "code",
      "metadata": {
        "id": "wAkBpy3Zgd2i",
        "colab": {
          "base_uri": "https://localhost:8080/"
        },
        "outputId": "519e7ded-e484-428e-d461-9375ea7b3979"
      },
      "source": [
        "# A2 = A * A\n",
        "A2 = np.matmul(A,A)\n",
        "A2"
      ],
      "execution_count": null,
      "outputs": [
        {
          "output_type": "execute_result",
          "data": {
            "text/plain": [
              "array([[3, 1, 2, 1, 1, 3, 0],\n",
              "       [1, 4, 2, 3, 1, 2, 1],\n",
              "       [2, 2, 4, 2, 2, 2, 1],\n",
              "       [1, 3, 2, 3, 1, 1, 1],\n",
              "       [1, 1, 2, 1, 2, 1, 1],\n",
              "       [3, 2, 2, 1, 1, 5, 0],\n",
              "       [0, 1, 1, 1, 1, 0, 1]])"
            ]
          },
          "metadata": {
            "tags": []
          },
          "execution_count": 3
        }
      ]
    },
    {
      "cell_type": "code",
      "metadata": {
        "id": "ZgyQmQabdfEg",
        "colab": {
          "base_uri": "https://localhost:8080/",
          "height": 466
        },
        "outputId": "ca57ed3e-910c-4781-d473-c9badd4eca02"
      },
      "source": [
        "# create a undirected graph\n",
        "G = nx.Graph()\n",
        "\n",
        "# create a branch of edges\n",
        "G.add_edges_from([(1,2),(2,3),(2,4),(3,5),(4,5)])\n",
        "\n",
        "# draw the graph\n",
        "fig, ax = plt.subplots(1, 1,figsize=(10,8))\n",
        "nx.draw_networkx(G, ax=ax,node_size=1000)\n",
        "plt.axis(\"off\")\n",
        "plt.show()"
      ],
      "execution_count": null,
      "outputs": [
        {
          "output_type": "display_data",
          "data": {
            "image/png": "[encoded data removed]",
            "text/plain": [
              "<Figure size 720x576 with 1 Axes>"
            ]
          },
          "metadata": {
            "tags": []
          }
        }
      ]
    },
    {
      "cell_type": "code",
      "metadata": {
        "colab": {
          "base_uri": "https://localhost:8080/"
        },
        "id": "JreXietd2gb6",
        "outputId": "288a6074-ccac-4860-f77a-f098442ec732"
      },
      "source": [
        "# G is a tree?\n",
        "nx.is_tree(G)"
      ],
      "execution_count": null,
      "outputs": [
        {
          "output_type": "execute_result",
          "data": {
            "text/plain": [
              "False"
            ]
          },
          "metadata": {
            "tags": []
          },
          "execution_count": 5
        }
      ]
    },
    {
      "cell_type": "code",
      "metadata": {
        "colab": {
          "base_uri": "https://localhost:8080/"
        },
        "id": "f_uuD3l56I4D",
        "outputId": "47df2a17-6769-4af7-9000-c58d865581b1"
      },
      "source": [
        "# Return all cycles of G if exist ones\n",
        "nx.cycle_basis(G)"
      ],
      "execution_count": null,
      "outputs": [
        {
          "output_type": "execute_result",
          "data": {
            "text/plain": [
              "[[3, 5, 4, 2]]"
            ]
          },
          "metadata": {
            "tags": []
          },
          "execution_count": 6
        }
      ]
    },
    {
      "cell_type": "code",
      "metadata": {
        "id": "9EcH0inw6k2R",
        "colab": {
          "base_uri": "https://localhost:8080/",
          "height": 466
        },
        "outputId": "d5d54705-5482-45ff-ff94-024fd97d8b14"
      },
      "source": [
        "# create a tree (graph without cycles)\n",
        "G = nx.Graph()\n",
        "\n",
        "# create a branch of edges\n",
        "G.add_edges_from([(1,2),(2,3),(2,4),(2,5),(2,7),(5,6),(7,8)])\n",
        "\n",
        "# draw the graph\n",
        "fig, ax = plt.subplots(1, 1,figsize=(10,8))\n",
        "nx.draw_networkx(G, ax=ax,node_size=1000)\n",
        "plt.axis(\"off\")\n",
        "plt.show()"
      ],
      "execution_count": null,
      "outputs": [
        {
          "output_type": "display_data",
          "data": {
            "image/png": "[encoded data removed]",
            "text/plain": [
              "<Figure size 720x576 with 1 Axes>"
            ]
          },
          "metadata": {
            "tags": []
          }
        }
      ]
    },
    {
      "cell_type": "code",
      "metadata": {
        "colab": {
          "base_uri": "https://localhost:8080/"
        },
        "id": "e-7fpjwL-fZH",
        "outputId": "19fbb123-6baf-4361-b25a-eb596c9f51df"
      },
      "source": [
        "# G is a tree?\n",
        "nx.is_tree(G)"
      ],
      "execution_count": null,
      "outputs": [
        {
          "output_type": "execute_result",
          "data": {
            "text/plain": [
              "True"
            ]
          },
          "metadata": {
            "tags": []
          },
          "execution_count": 8
        }
      ]
    },
    {
      "cell_type": "code",
      "metadata": {
        "colab": {
          "base_uri": "https://localhost:8080/"
        },
        "id": "ylDdo2Ac-nGK",
        "outputId": "b20c01b5-59e3-453b-eda0-1e7f5dead035"
      },
      "source": [
        "# Return all cycles of G if exist ones\n",
        "nx.cycle_basis(G)"
      ],
      "execution_count": null,
      "outputs": [
        {
          "output_type": "execute_result",
          "data": {
            "text/plain": [
              "[]"
            ]
          },
          "metadata": {
            "tags": []
          },
          "execution_count": 9
        }
      ]
    },
    {
      "cell_type": "code",
      "metadata": {
        "id": "-QPeOEk9-o8o",
        "colab": {
          "base_uri": "https://localhost:8080/",
          "height": 466
        },
        "outputId": "d6266566-5e57-402c-c328-f9b93125f9d5"
      },
      "source": [
        "# create a undirected graph\n",
        "G = nx.Graph()\n",
        "\n",
        "# create a branch of edges\n",
        "G.add_edges_from([(\"a\",\"e\"),\n",
        "                  (\"e\",\"d\"),(\"e\",\"f\"),\n",
        "                  (\"d\",\"f\"),\n",
        "                  (\"f\",\"h\"),(\"f\",\"g\"),\n",
        "                  (\"h\",\"i\"),(\"h\",\"b\")])\n",
        "\n",
        "# add a disconnected node\n",
        "G.add_node(\"c\")\n",
        "\n",
        "# draw the graph\n",
        "fig, ax = plt.subplots(1, 1,figsize=(10,8))\n",
        "nx.draw_networkx(G, ax=ax,node_size=1000)\n",
        "plt.axis(\"off\")\n",
        "plt.show()"
      ],
      "execution_count": null,
      "outputs": [
        {
          "output_type": "display_data",
          "data": {
            "image/png": "[encoded data removed]",
            "text/plain": [
              "<Figure size 720x576 with 1 Axes>"
            ]
          },
          "metadata": {
            "tags": []
          }
        }
      ]
    },
    {
      "cell_type": "code",
      "metadata": {
        "colab": {
          "base_uri": "https://localhost:8080/"
        },
        "id": "PElb47CWGaUz",
        "outputId": "67bff981-68ab-4fa8-ce76-1e0b042a7656"
      },
      "source": [
        "nx.has_path(G,\"a\",\"c\")"
      ],
      "execution_count": null,
      "outputs": [
        {
          "output_type": "execute_result",
          "data": {
            "text/plain": [
              "False"
            ]
          },
          "metadata": {
            "tags": []
          },
          "execution_count": 11
        }
      ]
    },
    {
      "cell_type": "code",
      "metadata": {
        "colab": {
          "base_uri": "https://localhost:8080/"
        },
        "id": "AsBuIJPZKFNN",
        "outputId": "4e2e49fe-bbcf-4e50-ecf9-21fc4e3266db"
      },
      "source": [
        "nx.has_path(G,\"a\",\"b\")"
      ],
      "execution_count": null,
      "outputs": [
        {
          "output_type": "execute_result",
          "data": {
            "text/plain": [
              "True"
            ]
          },
          "metadata": {
            "tags": []
          },
          "execution_count": 12
        }
      ]
    },
    {
      "cell_type": "code",
      "metadata": {
        "colab": {
          "base_uri": "https://localhost:8080/"
        },
        "id": "_6JG1dW4KH5n",
        "outputId": "06ae1e68-fdbf-47c5-87ab-f80489dc1413"
      },
      "source": [
        "nx.shortest_path(G,\"a\",\"b\")"
      ],
      "execution_count": null,
      "outputs": [
        {
          "output_type": "execute_result",
          "data": {
            "text/plain": [
              "['a', 'e', 'f', 'h', 'b']"
            ]
          },
          "metadata": {
            "tags": []
          },
          "execution_count": 13
        }
      ]
    },
    {
      "cell_type": "code",
      "metadata": {
        "colab": {
          "base_uri": "https://localhost:8080/"
        },
        "id": "SnTA-X1eKMjz",
        "outputId": "d2db7bbb-f30b-45fe-8dd2-2e0325250ada"
      },
      "source": [
        "nx.shortest_path(G,\"a\")"
      ],
      "execution_count": null,
      "outputs": [
        {
          "output_type": "execute_result",
          "data": {
            "text/plain": [
              "{'a': ['a'],\n",
              " 'b': ['a', 'e', 'f', 'h', 'b'],\n",
              " 'd': ['a', 'e', 'd'],\n",
              " 'e': ['a', 'e'],\n",
              " 'f': ['a', 'e', 'f'],\n",
              " 'g': ['a', 'e', 'f', 'g'],\n",
              " 'h': ['a', 'e', 'f', 'h'],\n",
              " 'i': ['a', 'e', 'f', 'h', 'i']}"
            ]
          },
          "metadata": {
            "tags": []
          },
          "execution_count": 14
        }
      ]
    },
    {
      "cell_type": "code",
      "metadata": {
        "colab": {
          "base_uri": "https://localhost:8080/"
        },
        "id": "T6O2cHmRKS0D",
        "outputId": "1cfa5e80-44c8-4d60-a640-e523da214a48"
      },
      "source": [
        "nx.shortest_path_length(G,\"a\")"
      ],
      "execution_count": null,
      "outputs": [
        {
          "output_type": "execute_result",
          "data": {
            "text/plain": [
              "{'a': 0, 'b': 4, 'd': 2, 'e': 1, 'f': 2, 'g': 3, 'h': 3, 'i': 4}"
            ]
          },
          "metadata": {
            "tags": []
          },
          "execution_count": 15
        }
      ]
    },
    {
      "cell_type": "code",
      "metadata": {
        "id": "DYeEfHy0KaKl"
      },
      "source": [
        "nx.shortest_path(G)"
      ],
      "execution_count": null,
      "outputs": []
    },
    {
      "cell_type": "code",
      "metadata": {
        "colab": {
          "base_uri": "https://localhost:8080/",
          "height": 286
        },
        "id": "MzOxgEoaKelC",
        "outputId": "e03800c1-52e9-4c2c-daf0-bc2a35b9281a"
      },
      "source": [
        "nx.average_shortest_path_length(G)"
      ],
      "execution_count": null,
      "outputs": [
        {
          "output_type": "error",
          "ename": "NetworkXError",
          "evalue": "ignored",
          "traceback": [
            "\u001b[0;31m---------------------------------------------------------------------------\u001b[0m",
            "\u001b[0;31mNetworkXError\u001b[0m                             Traceback (most recent call last)",
            "\u001b[0;32m<ipython-input-17-033aa892eae1>\u001b[0m in \u001b[0;36m<module>\u001b[0;34m()\u001b[0m\n\u001b[0;32m----> 1\u001b[0;31m \u001b[0mnx\u001b[0m\u001b[0;34m.\u001b[0m\u001b[0maverage_shortest_path_length\u001b[0m\u001b[0;34m(\u001b[0m\u001b[0mG\u001b[0m\u001b[0;34m)\u001b[0m\u001b[0;34m\u001b[0m\u001b[0;34m\u001b[0m\u001b[0m\n\u001b[0m",
            "\u001b[0;32m/usr/local/lib/python3.7/dist-packages/networkx/algorithms/shortest_paths/generic.py\u001b[0m in \u001b[0;36maverage_shortest_path_length\u001b[0;34m(G, weight, method)\u001b[0m\n\u001b[1;32m    387\u001b[0m         \u001b[0;32mraise\u001b[0m \u001b[0mnx\u001b[0m\u001b[0;34m.\u001b[0m\u001b[0mNetworkXError\u001b[0m\u001b[0;34m(\u001b[0m\u001b[0;34m\"Graph is not weakly connected.\"\u001b[0m\u001b[0;34m)\u001b[0m\u001b[0;34m\u001b[0m\u001b[0;34m\u001b[0m\u001b[0m\n\u001b[1;32m    388\u001b[0m     \u001b[0;32mif\u001b[0m \u001b[0;32mnot\u001b[0m \u001b[0mG\u001b[0m\u001b[0;34m.\u001b[0m\u001b[0mis_directed\u001b[0m\u001b[0;34m(\u001b[0m\u001b[0;34m)\u001b[0m \u001b[0;32mand\u001b[0m \u001b[0;32mnot\u001b[0m \u001b[0mnx\u001b[0m\u001b[0;34m.\u001b[0m\u001b[0mis_connected\u001b[0m\u001b[0;34m(\u001b[0m\u001b[0mG\u001b[0m\u001b[0;34m)\u001b[0m\u001b[0;34m:\u001b[0m\u001b[0;34m\u001b[0m\u001b[0;34m\u001b[0m\u001b[0m\n\u001b[0;32m--> 389\u001b[0;31m         \u001b[0;32mraise\u001b[0m \u001b[0mnx\u001b[0m\u001b[0;34m.\u001b[0m\u001b[0mNetworkXError\u001b[0m\u001b[0;34m(\u001b[0m\u001b[0;34m\"Graph is not connected.\"\u001b[0m\u001b[0;34m)\u001b[0m\u001b[0;34m\u001b[0m\u001b[0;34m\u001b[0m\u001b[0m\n\u001b[0m\u001b[1;32m    390\u001b[0m \u001b[0;34m\u001b[0m\u001b[0m\n\u001b[1;32m    391\u001b[0m     \u001b[0;31m# Compute all-pairs shortest paths.\u001b[0m\u001b[0;34m\u001b[0m\u001b[0;34m\u001b[0m\u001b[0;34m\u001b[0m\u001b[0m\n",
            "\u001b[0;31mNetworkXError\u001b[0m: Graph is not connected."
          ]
        }
      ]
    },
    {
      "cell_type": "code",
      "metadata": {
        "colab": {
          "base_uri": "https://localhost:8080/"
        },
        "id": "2hHoLsBjKodp",
        "outputId": "c739a58c-6c96-4395-ca1b-cc4003de4670"
      },
      "source": [
        "G.remove_node(\"c\")\n",
        "nx.average_shortest_path_length(G)"
      ],
      "execution_count": null,
      "outputs": [
        {
          "output_type": "execute_result",
          "data": {
            "text/plain": [
              "2.142857142857143"
            ]
          },
          "metadata": {
            "tags": []
          },
          "execution_count": 32
        }
      ]
    }
  ]
}