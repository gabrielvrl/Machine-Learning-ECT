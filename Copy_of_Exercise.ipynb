{
  "nbformat": 4,
  "nbformat_minor": 0,
  "metadata": {
    "colab": {
      "name": "Copy of Exercise.ipynb",
      "provenance": [],
      "collapsed_sections": [],
      "include_colab_link": true
    },
    "kernelspec": {
      "name": "python3",
      "display_name": "Python 3"
    },
    "language_info": {
      "name": "python"
    }
  },
  "cells": [
    {
      "cell_type": "markdown",
      "metadata": {
        "id": "view-in-github",
        "colab_type": "text"
      },
      "source": [
        "<a href=\"https://colab.research.google.com/github/gabrielvrl/Machine-Learning-ECT/blob/master/Copy_of_Exercise.ipynb\" target=\"_parent\"><img src=\"https://colab.research.google.com/assets/colab-badge.svg\" alt=\"Open In Colab\"/></a>"
      ]
    },
    {
      "cell_type": "markdown",
      "metadata": {
        "id": "yUN3GNJg9Qhx"
      },
      "source": [
        "This exercise is based on Menczer et al **A First Couse in Network Science** which can be accessed [here](https://github.com/CambridgeUniversityPress/FirstCourseNetworkScience/blob/master/tutorials/Chapter%202%20Tutorial.ipynb)."
      ]
    },
    {
      "cell_type": "code",
      "metadata": {
        "id": "DUoqNSZIFJ6j"
      },
      "source": [
        "!pip install nxviz"
      ],
      "execution_count": null,
      "outputs": []
    },
    {
      "cell_type": "code",
      "metadata": {
        "id": "vPnW354_FH1P"
      },
      "source": [
        "import networkx as nx\n",
        "import matplotlib.pyplot as plt\n",
        "import nxviz"
      ],
      "execution_count": null,
      "outputs": []
    },
    {
      "cell_type": "markdown",
      "metadata": {
        "id": "4PDJ1weA_W5Q"
      },
      "source": [
        "# 1. Dataset: US air traffic network\n",
        "\n",
        "[This](https://github.com/CambridgeUniversityPress/FirstCourseNetworkScience/tree/master/datasets) repository contains several example network datasets. Among these is a network of US air travel routes:"
      ]
    },
    {
      "cell_type": "code",
      "metadata": {
        "colab": {
          "base_uri": "https://localhost:8080/"
        },
        "id": "iqE6aU8GEXnk",
        "outputId": "85b92931-6ffe-4f96-c142-d76eda99e6d1"
      },
      "source": [
        "# download the dataset \n",
        "!gdown https://drive.google.com/uc?id=1ZEDgcLpDzgN0LUzQlxkCYm0_v3z4XSwy"
      ],
      "execution_count": null,
      "outputs": [
        {
          "output_type": "stream",
          "text": [
            "Downloading...\n",
            "From: https://drive.google.com/uc?id=1ZEDgcLpDzgN0LUzQlxkCYm0_v3z4XSwy\n",
            "To: /content/openflights_usa.graphml.gz\n",
            "\r  0% 0.00/31.5k [00:00<?, ?B/s]\r100% 31.5k/31.5k [00:00<00:00, 28.4MB/s]\n"
          ],
          "name": "stdout"
        }
      ]
    },
    {
      "cell_type": "code",
      "metadata": {
        "id": "MlXFNUAT_W5Q"
      },
      "source": [
        "G = nx.read_graphml('openflights_usa.graphml.gz')"
      ],
      "execution_count": null,
      "outputs": []
    },
    {
      "cell_type": "markdown",
      "metadata": {
        "id": "PRZ4IWjW_W5R"
      },
      "source": [
        "The nodes in this graph are airports, represented by their [IATA codes](https://en.wikipedia.org/wiki/List_of_airports_by_IATA_code:_A); two nodes are connected with an edge if there is a scheduled flight directly connecting these two airports. We'll assume this graph to be undirected since a flight in one direction usually means there is a return flight.\n",
        "\n",
        "Thus this graph has edges\n",
        "```\n",
        "[('HOM', 'ANC'), ('BGM', 'PHL'), ('BGM', 'IAD'), ...]\n",
        "```\n",
        "where ANC is Anchorage, IAD is Washington Dulles, etc.\n",
        "\n",
        "These nodes also have **attributes** associated with them, containing additional information about the airports:"
      ]
    },
    {
      "cell_type": "code",
      "metadata": {
        "id": "vspxbitz_W5R",
        "colab": {
          "base_uri": "https://localhost:8080/"
        },
        "outputId": "ffd39e9f-b3ce-4d4a-d062-97ab9427f9dd"
      },
      "source": [
        "G.nodes['IND']"
      ],
      "execution_count": null,
      "outputs": [
        {
          "output_type": "execute_result",
          "data": {
            "text/plain": [
              "{'IATA': 'IND',\n",
              " 'latitude': 39.7173,\n",
              " 'longitude': -86.294403,\n",
              " 'name': 'Indianapolis International Airport'}"
            ]
          },
          "metadata": {
            "tags": []
          },
          "execution_count": 4
        }
      ]
    },
    {
      "cell_type": "markdown",
      "metadata": {
        "id": "KVqLZ0eJ_W5R"
      },
      "source": [
        "Node attributes are stored as a dictionary, so the values can be accessed individually as such:"
      ]
    },
    {
      "cell_type": "code",
      "metadata": {
        "id": "sWlK8-5H_W5R",
        "colab": {
          "base_uri": "https://localhost:8080/",
          "height": 35
        },
        "outputId": "54d6e239-edfa-4425-b08e-5d49293e797d"
      },
      "source": [
        "G.nodes['IND']['name']"
      ],
      "execution_count": null,
      "outputs": [
        {
          "output_type": "execute_result",
          "data": {
            "application/vnd.google.colaboratory.intrinsic+json": {
              "type": "string"
            },
            "text/plain": [
              "'Indianapolis International Airport'"
            ]
          },
          "metadata": {
            "tags": []
          },
          "execution_count": 5
        }
      ]
    },
    {
      "cell_type": "markdown",
      "metadata": {
        "id": "5-9zfvb8GZNh"
      },
      "source": [
        "It is possible to note the number of nodes and edges."
      ]
    },
    {
      "cell_type": "code",
      "metadata": {
        "colab": {
          "base_uri": "https://localhost:8080/"
        },
        "id": "4zQcUgK5GQgC",
        "outputId": "c5426012-1b86-48f5-ccbc-bd8029414722"
      },
      "source": [
        "G.number_of_nodes()"
      ],
      "execution_count": null,
      "outputs": [
        {
          "output_type": "execute_result",
          "data": {
            "text/plain": [
              "546"
            ]
          },
          "metadata": {
            "tags": []
          },
          "execution_count": 6
        }
      ]
    },
    {
      "cell_type": "code",
      "metadata": {
        "colab": {
          "base_uri": "https://localhost:8080/"
        },
        "id": "EtUmXzo7GUWO",
        "outputId": "9ddd224a-a0b8-4085-d9af-b8c64aa88481"
      },
      "source": [
        "G.number_of_edges()"
      ],
      "execution_count": null,
      "outputs": [
        {
          "output_type": "execute_result",
          "data": {
            "text/plain": [
              "2781"
            ]
          },
          "metadata": {
            "tags": []
          },
          "execution_count": 7
        }
      ]
    },
    {
      "cell_type": "markdown",
      "metadata": {
        "id": "B17DSyUH_W5R"
      },
      "source": [
        "# EXERCISE 1\n",
        "\n",
        "Is there a direct flight between Indianapolis and Fairbanks, Alaska (FAI)? A direct flight is one with no intermediate stops."
      ]
    },
    {
      "cell_type": "code",
      "metadata": {
        "id": "mwPoJZBEPX4e"
      },
      "source": [
        "# put your code here"
      ],
      "execution_count": null,
      "outputs": []
    },
    {
      "cell_type": "markdown",
      "metadata": {
        "id": "GpVfRYrS_W5R"
      },
      "source": [
        "# EXERCISE 2\n",
        "\n",
        "If I wanted to fly from Indianapolis to Fairbanks, Alaska what would be an itinerary with the fewest number of flights?"
      ]
    },
    {
      "cell_type": "code",
      "metadata": {
        "id": "cD3GBl2vPZ5I"
      },
      "source": [
        "# put your code here"
      ],
      "execution_count": null,
      "outputs": []
    },
    {
      "cell_type": "markdown",
      "metadata": {
        "id": "qJLtm7up_W5R"
      },
      "source": [
        "# EXERCISE 3\n",
        "\n",
        "Is it possible to travel from any airport in the US to any other airport in the US, possibly using connecting flights? In other words, does there exist a path in the network between every possible pair of airports?"
      ]
    },
    {
      "cell_type": "code",
      "metadata": {
        "id": "sHnszjGuNoKQ"
      },
      "source": [
        "# put your code here"
      ],
      "execution_count": null,
      "outputs": []
    }
  ]
}