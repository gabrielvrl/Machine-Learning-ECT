{
  "nbformat": 4,
  "nbformat_minor": 0,
  "metadata": {
    "kernelspec": {
      "display_name": "Python 3",
      "language": "python",
      "name": "python3"
    },
    "language_info": {
      "codemirror_mode": {
        "name": "ipython",
        "version": 3
      },
      "file_extension": ".py",
      "mimetype": "text/x-python",
      "name": "python",
      "nbconvert_exporter": "python",
      "pygments_lexer": "ipython3",
      "version": "3.6.3"
    },
    "colab": {
      "name": "Copy of Lesson #02 - [NetworkX] Network Elements.ipynb",
      "provenance": [],
      "toc_visible": true,
      "include_colab_link": true
    }
  },
  "cells": [
    {
      "cell_type": "markdown",
      "metadata": {
        "id": "view-in-github",
        "colab_type": "text"
      },
      "source": [
        "<a href=\"https://colab.research.google.com/github/gabrielvrl/Machine-Learning-ECT/blob/master/Copy_of_Lesson_02_%5BNetworkX%5D_Network_Elements.ipynb\" target=\"_parent\"><img src=\"https://colab.research.google.com/assets/colab-badge.svg\" alt=\"Open In Colab\"/></a>"
      ]
    },
    {
      "cell_type": "markdown",
      "metadata": {
        "id": "QG9npHtLmgm7"
      },
      "source": [
        "# Introduction "
      ]
    },
    {
      "cell_type": "markdown",
      "metadata": {
        "id": "N_Ot13Qv9Bhd"
      },
      "source": [
        "\n",
        "You can use NetworkX to construct and draw graphs that are undirected or directed, with weighted or unweighted edges. An array of functions to analyze graphs is available. This tutorial takes you through a few basic examples and exercises.\n",
        "\n",
        "Note that many exercises are followed by a block with some `assert` statements. These assertions may be preceded by some setup code. They are provided to give you feedback that you are on the right path -- receiving an `AssertionError` probably means you've done something wrong.\n",
        "\n",
        "## Official documentation for version used in this tutorial\n",
        "\n",
        "https://networkx.org/\n",
        "\n",
        "## Official tutorial for version used in this tutorial\n",
        "\n",
        "https://networkx.org/documentation/stable/tutorial.html"
      ]
    },
    {
      "cell_type": "markdown",
      "metadata": {
        "id": "MyLeqcSLmgm8"
      },
      "source": [
        "# The `import` statement\n"
      ]
    },
    {
      "cell_type": "markdown",
      "metadata": {
        "id": "k4gPM3vy9UMs"
      },
      "source": [
        "\n",
        "Recall that `import` statements go at the top of your code, telling Python to load an external module. In this case we want to load NetworkX, but give it a short alias `nx` since we'll have to type it repeatedly, hence the `as` statement.\n",
        "\n",
        "Lines starting with the `%` character are not Python code, they are \"magic\" directives for Jupyter notebook. The `%matplotlib inline` magic tells Jupyter Notebook to draw graphics inline i.e. in the notebook. This magic should be used right after the import statement."
      ]
    },
    {
      "cell_type": "code",
      "metadata": {
        "id": "Qwj-Cuetmgm8"
      },
      "source": [
        "import networkx as nx\n",
        "%matplotlib inline"
      ],
      "execution_count": 1,
      "outputs": []
    },
    {
      "cell_type": "markdown",
      "metadata": {
        "id": "S5e8Cvwbmgm8"
      },
      "source": [
        "Let's check the installed version of NetworkX. Version 2 is incompatible with v1, so we want to make sure we're not using an out of date package."
      ]
    },
    {
      "cell_type": "code",
      "metadata": {
        "colab": {
          "base_uri": "https://localhost:8080/",
          "height": 35
        },
        "id": "NDm6CKkImgm9",
        "outputId": "6a703a17-c438-4511-f7c8-6341c2490ae7"
      },
      "source": [
        "nx.__version__"
      ],
      "execution_count": 2,
      "outputs": [
        {
          "output_type": "execute_result",
          "data": {
            "application/vnd.google.colaboratory.intrinsic+json": {
              "type": "string"
            },
            "text/plain": [
              "'2.6.2'"
            ]
          },
          "metadata": {},
          "execution_count": 2
        }
      ]
    },
    {
      "cell_type": "markdown",
      "metadata": {
        "id": "qh0OemKjmgm9"
      },
      "source": [
        "# Creating and drawing undirected graphs"
      ]
    },
    {
      "cell_type": "code",
      "metadata": {
        "colab": {
          "base_uri": "https://localhost:8080/",
          "height": 319
        },
        "id": "JY9ew9PTmgm9",
        "outputId": "d20ad55b-337d-4baf-f68d-dd2c011d2175"
      },
      "source": [
        "# a \"plain\" graph is undirected\n",
        "G = nx.Graph()\n",
        "\n",
        "# give each a node a 'name', which is a letter in this case.\n",
        "G.add_node('a')\n",
        "\n",
        "# the add_nodes_from method allows adding nodes from a sequence, in this case a list\n",
        "nodes_to_add = ['b', 'c', 'd']\n",
        "G.add_nodes_from(nodes_to_add)\n",
        "\n",
        "# add edge from 'a' to 'b'\n",
        "# since this graph is undirected, the order doesn't matter here\n",
        "G.add_edge('a', 'b')\n",
        "\n",
        "# just like add_nodes_from, we can add edges from a sequence\n",
        "# edges should be specified as 2-tuples\n",
        "edges_to_add = [('a', 'c'), ('b', 'c'), ('c', 'd')]\n",
        "G.add_edges_from(edges_to_add)\n",
        "\n",
        "# draw the graph\n",
        "nx.draw(G, with_labels=True)"
      ],
      "execution_count": 3,
      "outputs": [
        {
          "output_type": "display_data",
          "data": {
            "image/png": "[encoded data removed]",
            "text/plain": [
              "<Figure size 432x288 with 1 Axes>"
            ]
          },
          "metadata": {}
        }
      ]
    },
    {
      "cell_type": "markdown",
      "metadata": {
        "id": "XPJ5hkEPmgm9"
      },
      "source": [
        "There are many optional arguments to the draw function to customize the appearance."
      ]
    },
    {
      "cell_type": "code",
      "metadata": {
        "colab": {
          "base_uri": "https://localhost:8080/",
          "height": 466
        },
        "id": "bQUnoCy9mgm-",
        "outputId": "13373684-9f00-4b15-829b-6991e23568be"
      },
      "source": [
        "import matplotlib.pyplot as plt\n",
        "\n",
        "fig, ax = plt.subplots(1,1,figsize=(10,8))\n",
        "nx.draw(G,\n",
        "        with_labels=True,\n",
        "        node_color='blue',\n",
        "        node_size=1600,\n",
        "        font_color='white',\n",
        "        font_size=16,ax=ax\n",
        "        )"
      ],
      "execution_count": 4,
      "outputs": [
        {
          "output_type": "display_data",
          "data": {
            "image/png": "[encoded data removed]",
            "text/plain": [
              "<Figure size 720x576 with 1 Axes>"
            ]
          },
          "metadata": {}
        }
      ]
    },
    {
      "cell_type": "markdown",
      "metadata": {
        "id": "YEa3CBUEmgm-"
      },
      "source": [
        "# A note on naming conventions\n"
      ]
    },
    {
      "cell_type": "markdown",
      "metadata": {
        "id": "z9D-PUHo9XTC"
      },
      "source": [
        "\n",
        "Usually in Python, variables are named in `snake_case`, i.e. lowercase with underscores separating words. Classes are conventionally named in `CamelCase`, i.e. with the first letter of each word capitalized.\n",
        "\n",
        "Obviously NetworkX doesn't use this convention, often using single capital letters for the names of graphs. This is an example of convention leaking from the world of discrete mathematics. Since most of the documentation you will find online uses this convention, we will follow it as well."
      ]
    },
    {
      "cell_type": "markdown",
      "metadata": {
        "id": "4bPMI-u5mgm-"
      },
      "source": [
        "# Graph methods\n",
        "\n",
        "The graph object has some properties and methods giving data about the whole graph."
      ]
    },
    {
      "cell_type": "code",
      "metadata": {
        "colab": {
          "base_uri": "https://localhost:8080/"
        },
        "id": "ERBk73jVmgm-",
        "outputId": "8f835684-d755-4c02-c343-8495c37141c8"
      },
      "source": [
        "# List all of the nodes\n",
        "G.nodes()"
      ],
      "execution_count": 5,
      "outputs": [
        {
          "output_type": "execute_result",
          "data": {
            "text/plain": [
              "NodeView(('a', 'b', 'c', 'd'))"
            ]
          },
          "metadata": {},
          "execution_count": 5
        }
      ]
    },
    {
      "cell_type": "code",
      "metadata": {
        "colab": {
          "base_uri": "https://localhost:8080/"
        },
        "id": "-28h383Cmgm-",
        "outputId": "47491f91-bd1b-4cea-98cb-f5523daff541"
      },
      "source": [
        "# List all of the edges\n",
        "G.edges()"
      ],
      "execution_count": 6,
      "outputs": [
        {
          "output_type": "execute_result",
          "data": {
            "text/plain": [
              "EdgeView([('a', 'b'), ('a', 'c'), ('b', 'c'), ('c', 'd')])"
            ]
          },
          "metadata": {},
          "execution_count": 6
        }
      ]
    },
    {
      "cell_type": "markdown",
      "metadata": {
        "id": "EKDWMPk7mgm-"
      },
      "source": [
        "NodeView and EdgeView objects have iterators, so we can use them in `for` loops:"
      ]
    },
    {
      "cell_type": "code",
      "metadata": {
        "colab": {
          "base_uri": "https://localhost:8080/"
        },
        "id": "n-VUFHDFmgm-",
        "outputId": "611db7af-60a1-4c5d-e578-461e56b511f2"
      },
      "source": [
        "for node in G.nodes:\n",
        "    print(node)"
      ],
      "execution_count": 7,
      "outputs": [
        {
          "output_type": "stream",
          "text": [
            "a\n",
            "b\n",
            "c\n",
            "d\n"
          ],
          "name": "stdout"
        }
      ]
    },
    {
      "cell_type": "code",
      "metadata": {
        "scrolled": true,
        "colab": {
          "base_uri": "https://localhost:8080/"
        },
        "id": "nlljjdqEmgm_",
        "outputId": "5f86b068-c3f4-4993-cecc-f3d48702d90f"
      },
      "source": [
        "for edge in G.edges:\n",
        "    print(edge)"
      ],
      "execution_count": 8,
      "outputs": [
        {
          "output_type": "stream",
          "text": [
            "('a', 'b')\n",
            "('a', 'c')\n",
            "('b', 'c')\n",
            "('c', 'd')\n"
          ],
          "name": "stdout"
        }
      ]
    },
    {
      "cell_type": "markdown",
      "metadata": {
        "id": "3bdiWAWJmgm_"
      },
      "source": [
        "Note that the edges are given as 2-tuples, the same way we entered them.\n",
        "\n",
        "We can get the number of nodes and edges in a graph using the `number_of_` methods."
      ]
    },
    {
      "cell_type": "code",
      "metadata": {
        "colab": {
          "base_uri": "https://localhost:8080/"
        },
        "id": "MJ6j7vf_mgm_",
        "outputId": "d5b8720d-d079-4bcd-a92c-d87ac389dd1b"
      },
      "source": [
        "G.number_of_nodes()"
      ],
      "execution_count": 9,
      "outputs": [
        {
          "output_type": "execute_result",
          "data": {
            "text/plain": [
              "4"
            ]
          },
          "metadata": {},
          "execution_count": 9
        }
      ]
    },
    {
      "cell_type": "code",
      "metadata": {
        "colab": {
          "base_uri": "https://localhost:8080/"
        },
        "id": "zTnGX7Hbmgm_",
        "outputId": "41e8865a-c8e0-47ef-b307-41c9f8cf3c7d"
      },
      "source": [
        "G.number_of_edges()"
      ],
      "execution_count": 10,
      "outputs": [
        {
          "output_type": "execute_result",
          "data": {
            "text/plain": [
              "4"
            ]
          },
          "metadata": {},
          "execution_count": 10
        }
      ]
    },
    {
      "cell_type": "markdown",
      "metadata": {
        "id": "bqNH0CaWmgm_"
      },
      "source": [
        "Some graph methods take an edge or node as argument. These provide the graph properties of the given edge or node. For example, the `.neighbors()` method gives the nodes linked to the given node:"
      ]
    },
    {
      "cell_type": "code",
      "metadata": {
        "colab": {
          "base_uri": "https://localhost:8080/"
        },
        "id": "RZKxKFdvmgm_",
        "outputId": "d1214a6d-072d-4238-c54b-276a5d78aebe"
      },
      "source": [
        "# list of neighbors of node 'b'\n",
        "G.neighbors('b')"
      ],
      "execution_count": 11,
      "outputs": [
        {
          "output_type": "execute_result",
          "data": {
            "text/plain": [
              "<dict_keyiterator at 0x7f23923da470>"
            ]
          },
          "metadata": {},
          "execution_count": 11
        }
      ]
    },
    {
      "cell_type": "markdown",
      "metadata": {
        "id": "-yPztVU1mgm_"
      },
      "source": [
        "For performance reasons, many graph methods return iterators instead of lists. They are convenient to loop over:"
      ]
    },
    {
      "cell_type": "code",
      "metadata": {
        "colab": {
          "base_uri": "https://localhost:8080/"
        },
        "id": "CPAE8-Z8mgm_",
        "outputId": "f061ff74-e0fe-44ee-fc35-d40dbe7aa88f"
      },
      "source": [
        "for neighbor in G.neighbors('b'):\n",
        "    print(neighbor)"
      ],
      "execution_count": 12,
      "outputs": [
        {
          "output_type": "stream",
          "text": [
            "a\n",
            "c\n"
          ],
          "name": "stdout"
        }
      ]
    },
    {
      "cell_type": "markdown",
      "metadata": {
        "id": "wQ7ah7ocmgm_"
      },
      "source": [
        "and you can always use the `list` constructor to make a list from an iterator:"
      ]
    },
    {
      "cell_type": "code",
      "metadata": {
        "colab": {
          "base_uri": "https://localhost:8080/"
        },
        "id": "v7AVsRJrmgnA",
        "outputId": "0f23f72d-a02d-41d6-f8f5-920bee89414e"
      },
      "source": [
        "list(G.neighbors('b'))"
      ],
      "execution_count": 13,
      "outputs": [
        {
          "output_type": "execute_result",
          "data": {
            "text/plain": [
              "['a', 'c']"
            ]
          },
          "metadata": {},
          "execution_count": 13
        }
      ]
    },
    {
      "cell_type": "markdown",
      "metadata": {
        "id": "LxcVIHh2mgnA"
      },
      "source": [
        "# NetworkX functions vs. Graph methods\n"
      ]
    },
    {
      "cell_type": "markdown",
      "metadata": {
        "id": "p_wy_aLz9Z1J"
      },
      "source": [
        "\n",
        "The previous data are available via graph *methods*, *i.e.* they are called from the graph object:\n",
        "\n",
        "    G.<method_name>(<arguments>)\n",
        "\n",
        "While several of the most-used NetworkX functions are provided as methods, many more of them are module functions and are called like this:\n",
        "\n",
        "    nx.<function_name>(G, <arguments>)\n",
        "\n",
        "that is, with the graph provided as the first, and maybe only, argument. Here are a couple of examples of NetworkX module functions that provide information about a graph:"
      ]
    },
    {
      "cell_type": "code",
      "metadata": {
        "colab": {
          "base_uri": "https://localhost:8080/"
        },
        "id": "VIoTGFH3mgnA",
        "outputId": "0037e670-b30f-46c0-b5d1-1abade5a2d06"
      },
      "source": [
        "nx.is_tree(G)"
      ],
      "execution_count": 14,
      "outputs": [
        {
          "output_type": "execute_result",
          "data": {
            "text/plain": [
              "False"
            ]
          },
          "metadata": {},
          "execution_count": 14
        }
      ]
    },
    {
      "cell_type": "code",
      "metadata": {
        "colab": {
          "base_uri": "https://localhost:8080/"
        },
        "id": "gbIuMKNJmgnA",
        "outputId": "0d489313-9a29-4a86-a8eb-f3a9253e1670"
      },
      "source": [
        "nx.is_connected(G)"
      ],
      "execution_count": 15,
      "outputs": [
        {
          "output_type": "execute_result",
          "data": {
            "text/plain": [
              "True"
            ]
          },
          "metadata": {},
          "execution_count": 15
        }
      ]
    },
    {
      "cell_type": "markdown",
      "metadata": {
        "id": "3L7uuaSPmgnA"
      },
      "source": [
        "# Node and edge existence\n"
      ]
    },
    {
      "cell_type": "markdown",
      "metadata": {
        "id": "m_hW0aPg9car"
      },
      "source": [
        "\n",
        "To check if a node is present in a graph, you can use the `has_node()` method:"
      ]
    },
    {
      "cell_type": "code",
      "metadata": {
        "colab": {
          "base_uri": "https://localhost:8080/"
        },
        "id": "WfiSCgkJmgnA",
        "outputId": "3b62a89b-7adc-4ff2-fa8e-bbc2fad24bdb"
      },
      "source": [
        "G.has_node('a')"
      ],
      "execution_count": 16,
      "outputs": [
        {
          "output_type": "execute_result",
          "data": {
            "text/plain": [
              "True"
            ]
          },
          "metadata": {},
          "execution_count": 16
        }
      ]
    },
    {
      "cell_type": "code",
      "metadata": {
        "colab": {
          "base_uri": "https://localhost:8080/"
        },
        "id": "GqZntbp4mgnA",
        "outputId": "ed2a5f5d-a681-421b-8f0d-8899d8fd909e"
      },
      "source": [
        "G.has_node('x')"
      ],
      "execution_count": 17,
      "outputs": [
        {
          "output_type": "execute_result",
          "data": {
            "text/plain": [
              "False"
            ]
          },
          "metadata": {},
          "execution_count": 17
        }
      ]
    },
    {
      "cell_type": "markdown",
      "metadata": {
        "id": "hwz9zJThmgnA"
      },
      "source": [
        "Additionally, the loop syntax used above: `for n in G.nodes` suggests another way we can check if a node is in a graph:"
      ]
    },
    {
      "cell_type": "code",
      "metadata": {
        "colab": {
          "base_uri": "https://localhost:8080/"
        },
        "id": "FYfjvghMmgnB",
        "outputId": "88225419-e580-4596-e3b4-692691a2ff87"
      },
      "source": [
        "'d' in G.nodes"
      ],
      "execution_count": 18,
      "outputs": [
        {
          "output_type": "execute_result",
          "data": {
            "text/plain": [
              "True"
            ]
          },
          "metadata": {},
          "execution_count": 18
        }
      ]
    },
    {
      "cell_type": "markdown",
      "metadata": {
        "id": "rh0IEZxmmgnB"
      },
      "source": [
        "Likewise we can check if two nodes are connected by an edge:"
      ]
    },
    {
      "cell_type": "code",
      "metadata": {
        "colab": {
          "base_uri": "https://localhost:8080/"
        },
        "id": "yoEeHW2vmgnB",
        "outputId": "ea6ff99f-642b-481f-bf56-ad4177ec7d71"
      },
      "source": [
        "G.has_edge('a', 'b')"
      ],
      "execution_count": 19,
      "outputs": [
        {
          "output_type": "execute_result",
          "data": {
            "text/plain": [
              "True"
            ]
          },
          "metadata": {},
          "execution_count": 19
        }
      ]
    },
    {
      "cell_type": "code",
      "metadata": {
        "colab": {
          "base_uri": "https://localhost:8080/"
        },
        "id": "xJnFSISSmgnB",
        "outputId": "d7ddbc35-09c4-4a03-f65b-1d2cc99c54e7"
      },
      "source": [
        "G.has_edge('a', 'd')"
      ],
      "execution_count": 20,
      "outputs": [
        {
          "output_type": "execute_result",
          "data": {
            "text/plain": [
              "False"
            ]
          },
          "metadata": {},
          "execution_count": 20
        }
      ]
    },
    {
      "cell_type": "code",
      "metadata": {
        "colab": {
          "base_uri": "https://localhost:8080/"
        },
        "id": "r9nCt42kmgnB",
        "outputId": "6e7b302f-534a-456d-d9df-6a2e2654bfa0"
      },
      "source": [
        "('c', 'd') in G.edges"
      ],
      "execution_count": 21,
      "outputs": [
        {
          "output_type": "execute_result",
          "data": {
            "text/plain": [
              "True"
            ]
          },
          "metadata": {},
          "execution_count": 21
        }
      ]
    },
    {
      "cell_type": "markdown",
      "metadata": {
        "id": "bZCoiuVdmgnB"
      },
      "source": [
        "# Node degree\n"
      ]
    },
    {
      "cell_type": "markdown",
      "metadata": {
        "id": "tgJM-8O_9eSd"
      },
      "source": [
        "\n",
        "One of the most important questions we can ask about a node in a graph is how many other nodes it connects to. Using the `.neighbors()` method from above, we could formulate this question as so:"
      ]
    },
    {
      "cell_type": "code",
      "metadata": {
        "colab": {
          "base_uri": "https://localhost:8080/"
        },
        "id": "MDtjYBvJmgnB",
        "outputId": "43779a70-6836-4294-ea69-2581f0371d2f"
      },
      "source": [
        "len(list(G.neighbors('a')))"
      ],
      "execution_count": 22,
      "outputs": [
        {
          "output_type": "execute_result",
          "data": {
            "text/plain": [
              "2"
            ]
          },
          "metadata": {},
          "execution_count": 22
        }
      ]
    },
    {
      "cell_type": "markdown",
      "metadata": {
        "id": "l8ftq28RmgnB"
      },
      "source": [
        "but this is such a common task that NetworkX provides us a graph method to do this in a much clearer way:"
      ]
    },
    {
      "cell_type": "code",
      "metadata": {
        "colab": {
          "base_uri": "https://localhost:8080/"
        },
        "id": "IHuE22BpmgnB",
        "outputId": "85daf3ad-0dcb-4b7f-faba-be7e25711b59"
      },
      "source": [
        "G.degree('a')"
      ],
      "execution_count": 23,
      "outputs": [
        {
          "output_type": "execute_result",
          "data": {
            "text/plain": [
              "2"
            ]
          },
          "metadata": {},
          "execution_count": 23
        }
      ]
    },
    {
      "cell_type": "markdown",
      "metadata": {
        "id": "OEbvlDyImgnB"
      },
      "source": [
        "# EXERCISE 1\n",
        "\n"
      ]
    },
    {
      "cell_type": "markdown",
      "metadata": {
        "id": "SuO9vOYd9gFV"
      },
      "source": [
        "\n",
        "Often in the context of trees, a node with degree 1 is called a *leaf*. Write a function named `get_leaves` that takes a graph as an argument, loops through the nodes, and returns a list of nodes with degree 1."
      ]
    },
    {
      "cell_type": "code",
      "metadata": {
        "scrolled": true,
        "id": "FlGKqf0MmgnB"
      },
      "source": [
        "def get_leaves(G):\n",
        "  leaves = []\n",
        "  for leave in G:\n",
        "    if G.degree(leave) == 1:\n",
        "      leaves.append(leave)\n",
        "  return leaves"
      ],
      "execution_count": 37,
      "outputs": []
    },
    {
      "cell_type": "code",
      "metadata": {
        "scrolled": true,
        "id": "mVBLr5_xmgnB"
      },
      "source": [
        "G = nx.Graph()\n",
        "G.add_edges_from([\n",
        "        ('a', 'b'),\n",
        "        ('a', 'd'),\n",
        "        ('c', 'd'),\n",
        "    ])\n",
        "assert set(get_leaves(G)) == {'c', 'b'}"
      ],
      "execution_count": 38,
      "outputs": []
    },
    {
      "cell_type": "markdown",
      "metadata": {
        "id": "3ZJS8XwomgnC"
      },
      "source": [
        "# Aside: comprehensions\n"
      ]
    },
    {
      "cell_type": "markdown",
      "metadata": {
        "id": "UHiOy9Uc9hMQ"
      },
      "source": [
        "\n",
        "Often we have one sequence of values and we want to generate a new sequence by applying an operation to each item in the first. List comprehensions and generator expressions are compact ways to do this.\n",
        "\n",
        "List comprehensions are specified inside square brackets, and immediately produce a list of the result."
      ]
    },
    {
      "cell_type": "code",
      "metadata": {
        "id": "PI4AO291mgnC"
      },
      "source": [
        "items = ['spider', 'y', 'banana']\n",
        "[item.upper() for item in items]"
      ],
      "execution_count": null,
      "outputs": []
    },
    {
      "cell_type": "markdown",
      "metadata": {
        "id": "0DiBW7LQmgnC"
      },
      "source": [
        "In the context of NetworkX, this is often used to do something with the node or edge lists:"
      ]
    },
    {
      "cell_type": "code",
      "metadata": {
        "id": "OtB8bHjOmgnC"
      },
      "source": [
        "print(G.nodes())\n",
        "print([G.degree(n) for n in G.nodes()])"
      ],
      "execution_count": null,
      "outputs": []
    },
    {
      "cell_type": "markdown",
      "metadata": {
        "id": "k5mqjsNbmgnC"
      },
      "source": [
        "Generator expressions are slightly different as they are evaluated [lazily](https://en.wikipedia.org/wiki/Lazy_evaluation). These are specified using round braces, and if they are being expressed as a function argument, they can be specified without any braces. These are most often used in the context of aggregations like the `max` function:"
      ]
    },
    {
      "cell_type": "code",
      "metadata": {
        "id": "bmlcYEMKmgnC"
      },
      "source": [
        "g = (len(item) for item in items)\n",
        "list(g)"
      ],
      "execution_count": null,
      "outputs": []
    },
    {
      "cell_type": "code",
      "metadata": {
        "id": "fwrnavpvmgnC"
      },
      "source": [
        "max(len(item) for item in items)"
      ],
      "execution_count": null,
      "outputs": []
    },
    {
      "cell_type": "code",
      "metadata": {
        "id": "IQiLeXAmmgnC"
      },
      "source": [
        "sorted(item.upper() for item in items)"
      ],
      "execution_count": null,
      "outputs": []
    },
    {
      "cell_type": "markdown",
      "metadata": {
        "id": "pOHp5rgxmgnC"
      },
      "source": [
        "# Node names\n"
      ]
    },
    {
      "cell_type": "markdown",
      "metadata": {
        "id": "xUhXjx4D9imG"
      },
      "source": [
        "\n",
        "The node names don't have to be single characters -- they can be strings or integers or any immutable object, and the types can be mixed. The example below uses strings and integers for names."
      ]
    },
    {
      "cell_type": "code",
      "metadata": {
        "id": "2FM2ZUsImgnC"
      },
      "source": [
        "import matplotlib.pyplot as plt\n",
        "\n",
        "fig, ax = plt.subplots(1,1,figsize=(8,6))\n",
        "\n",
        "G = nx.Graph()\n",
        "G.add_nodes_from(['cat','dog','virus',13])\n",
        "G.add_edge('cat','dog')\n",
        "nx.draw(G, with_labels=True, font_color='white', node_size=1000, ax = ax)\n",
        "plt.show()"
      ],
      "execution_count": null,
      "outputs": []
    },
    {
      "cell_type": "markdown",
      "metadata": {
        "id": "np4_nOMVmgnC"
      },
      "source": [
        "# Adjacency lists\n"
      ]
    },
    {
      "cell_type": "markdown",
      "metadata": {
        "id": "Fi2GXDKb9k8N"
      },
      "source": [
        "\n",
        "One compact way to represent a graph is an adjacency list. This is most useful for unweighted graphs, directed or undirected. In an adjacency list, each line contains some number of node names. The first node name is the \"source\" and each other node name on the line is a \"target\". For instance, given the following adjacency list:\n",
        "```\n",
        "a d e\n",
        "b c\n",
        "c\n",
        "d\n",
        "e\n",
        "```\n",
        "the edges are as follows:\n",
        "```\n",
        "(a, d)\n",
        "(a, e)\n",
        "(b, c)\n",
        "```\n",
        "The nodes on their own line exist so that we are sure to include any singleton nodes. Note that if our graph is undirected, we only need to specify one direction for each edge. Importantly, whether the graph is directed or undirected is often not contained in the file itself -- you have to infer it. This is one limitation of the format.\n",
        "\n",
        "There is a file called `friends.adjlist`. It's a plain text file, so you can open it on your computer or in GitHub, but here are its contents:"
      ]
    },
    {
      "cell_type": "code",
      "metadata": {
        "id": "Yet6Ll9wmgnD"
      },
      "source": [
        "print(open('friends.adjlist').read())"
      ],
      "execution_count": null,
      "outputs": []
    },
    {
      "cell_type": "markdown",
      "metadata": {
        "id": "Nx-3UM19mgnD"
      },
      "source": [
        "NetworkX provides a way to read a graph from an adjacency list: `nx.read_adjlist()`. We will name this graph SG, for social graph."
      ]
    },
    {
      "cell_type": "code",
      "metadata": {
        "id": "ZHZefiTWmgnD"
      },
      "source": [
        "SG = nx.read_adjlist('friends.adjlist')"
      ],
      "execution_count": null,
      "outputs": []
    },
    {
      "cell_type": "markdown",
      "metadata": {
        "id": "HPYvh9tbmgnD"
      },
      "source": [
        "We know how to draw this graph:"
      ]
    },
    {
      "cell_type": "code",
      "metadata": {
        "id": "Xqvx4sJRmgnD"
      },
      "source": [
        "import matplotlib.pyplot as plt\n",
        "\n",
        "fig,ax = plt.subplots(1,1,figsize=(10,8))\n",
        "nx.draw(SG, node_size=2000, node_color='lightblue', with_labels=True,ax=ax)\n",
        "plt.show()"
      ],
      "execution_count": null,
      "outputs": []
    },
    {
      "cell_type": "markdown",
      "metadata": {
        "id": "sJkPbCgfmgnD"
      },
      "source": [
        "And we know how to get information such as the number of friends linked from a node:"
      ]
    },
    {
      "cell_type": "code",
      "metadata": {
        "id": "3XEmjoTBmgnD"
      },
      "source": [
        "SG.degree('Alice')"
      ],
      "execution_count": null,
      "outputs": []
    },
    {
      "cell_type": "markdown",
      "metadata": {
        "id": "TcYdyCnEmgnD"
      },
      "source": [
        "# EXERCISE 2\n"
      ]
    },
    {
      "cell_type": "markdown",
      "metadata": {
        "id": "MsE6DTbI9m4t"
      },
      "source": [
        "\n",
        "Write a function max_degree that takes a graph as its argument, and returns a 2-tuple with the name and degree of the node with highest degree."
      ]
    },
    {
      "cell_type": "code",
      "metadata": {
        "scrolled": false,
        "id": "DLufczZQmgnD"
      },
      "source": [
        "def max_degree(G):\n",
        "    # PUT YOUR CODE HERE"
      ],
      "execution_count": null,
      "outputs": []
    },
    {
      "cell_type": "code",
      "metadata": {
        "scrolled": false,
        "id": "aEQapPYNmgnD"
      },
      "source": [
        "SG = nx.read_adjlist('friends.adjlist')\n",
        "assert max_degree(SG) == ('Claire', 4)"
      ],
      "execution_count": null,
      "outputs": []
    },
    {
      "cell_type": "markdown",
      "metadata": {
        "id": "MCDbNldnmgnD"
      },
      "source": [
        "# EXERCISE 3\n"
      ]
    },
    {
      "cell_type": "markdown",
      "metadata": {
        "id": "RWup3uDm9n5I"
      },
      "source": [
        "\n",
        "Write a function `mutual_friends` that takes a graph and two nodes as arguments, and returns a list (or set) of nodes that are linked to both given nodes. For example, in the graph `SG` drawn above,\n",
        "\n",
        "    mutual_friends(SG, 'Alice', 'Claire') == ['Frank']\n",
        "\n",
        "an empty list or set should be returned in the case where two nodes have no mutual friends, e.g. George and Bob in `SG` drawn above."
      ]
    },
    {
      "cell_type": "code",
      "metadata": {
        "scrolled": false,
        "id": "hpnX9YeKmgnD"
      },
      "source": [
        "def mutual_friends(G, node_1, node_2):\n",
        "  # PUT YOUR CODE HERE"
      ],
      "execution_count": null,
      "outputs": []
    },
    {
      "cell_type": "code",
      "metadata": {
        "scrolled": true,
        "id": "B2n0vCRYmgnE"
      },
      "source": [
        "SG = nx.read_adjlist('friends.adjlist')\n",
        "assert mutual_friends(SG, 'Alice', 'Claire') == ['Frank']\n",
        "assert mutual_friends(SG, 'George', 'Bob') == []\n",
        "assert sorted(mutual_friends(SG, 'Claire', 'George')) == ['Dennis', 'Frank']"
      ],
      "execution_count": null,
      "outputs": []
    },
    {
      "cell_type": "markdown",
      "metadata": {
        "id": "1Y9kUzI5mgnE"
      },
      "source": [
        "# Directed graphs\n"
      ]
    },
    {
      "cell_type": "markdown",
      "metadata": {
        "id": "vGwKHPk49pjQ"
      },
      "source": [
        "\n",
        "Unless otherwise specified, we assume graph edges are undirected -- they are symmetric and go both ways. But some relationships, e.g. predator-prey relationships, are asymmetric and best represented as directed graphs. NetworkX provides the `DiGraph` class for directed graphs."
      ]
    },
    {
      "cell_type": "code",
      "metadata": {
        "id": "U-aYvHw2mgnE"
      },
      "source": [
        "D = nx.DiGraph()\n",
        "\n",
        "D.add_edges_from([(1,2),(2,3),(3,2),(3,4),(3,5),(4,5),(4,6),(5,6),(6,4),(4,2)])\n",
        "\n",
        "nx.draw(D, with_labels=True)"
      ],
      "execution_count": null,
      "outputs": []
    },
    {
      "cell_type": "markdown",
      "metadata": {
        "id": "cJh2UMM1mgnE"
      },
      "source": [
        "Note the asymmetry in graph methods dealing with edges such as `has_edge()`:"
      ]
    },
    {
      "cell_type": "code",
      "metadata": {
        "id": "qR3qxAmPmgnE"
      },
      "source": [
        "D.has_edge(1,2)"
      ],
      "execution_count": null,
      "outputs": []
    },
    {
      "cell_type": "code",
      "metadata": {
        "id": "GMOpNUIfmgnE"
      },
      "source": [
        "D.has_edge(2,1)"
      ],
      "execution_count": null,
      "outputs": []
    },
    {
      "cell_type": "markdown",
      "metadata": {
        "id": "1Sr0z0FQmgnE"
      },
      "source": [
        "Instead of the symmetric relationship \"neighbors\", nodes in directed graphs have predecessors (\"in-neighbors\") and successors (\"out-neighbors\"):"
      ]
    },
    {
      "cell_type": "code",
      "metadata": {
        "id": "xgGAG8LCmgnE"
      },
      "source": [
        "print('Successors of 2:', list(D.successors(2)))\n",
        "\n",
        "print('Predecessors of 2:', list(D.predecessors(2)))"
      ],
      "execution_count": null,
      "outputs": []
    },
    {
      "cell_type": "markdown",
      "metadata": {
        "id": "rsj-OkL8mgnE"
      },
      "source": [
        "Directed graphs have in-degree and out-degree, giving the number of edges pointing to and from the given node, respectively:"
      ]
    },
    {
      "cell_type": "code",
      "metadata": {
        "id": "D_Wz7lDYmgnE"
      },
      "source": [
        "D.in_degree(2)"
      ],
      "execution_count": null,
      "outputs": []
    },
    {
      "cell_type": "code",
      "metadata": {
        "id": "PRY7wcGpmgnE"
      },
      "source": [
        "D.out_degree(2)"
      ],
      "execution_count": null,
      "outputs": []
    },
    {
      "cell_type": "markdown",
      "metadata": {
        "id": "axgp9QB1mgnF"
      },
      "source": [
        "### Caveat\n",
        "\n",
        "Since NetworkX 2, the `.degree()` method on a directed graph gives the total degree: in-degree plus out-degree. However, in a bit of confusing nomenclature, the `neighbors` method is a synonym for `successors`, giving only the edges originating from the given node. This makes sense if you consider `neighbors` to be all the nodes reachable from the given node by following links, but it's easy to make the mistake of writing `.neighbors()` in your code when you really want both predecessors and successors."
      ]
    },
    {
      "cell_type": "code",
      "metadata": {
        "id": "OkMlHO7KmgnF"
      },
      "source": [
        "D.degree(2)"
      ],
      "execution_count": null,
      "outputs": []
    },
    {
      "cell_type": "code",
      "metadata": {
        "scrolled": false,
        "id": "1pUW9bzqmgnF"
      },
      "source": [
        "print('Successors of 2:', list(D.successors(2)))\n",
        "print('\"Neighbors\" of 2:', list(D.neighbors(2)))"
      ],
      "execution_count": null,
      "outputs": []
    }
  ]
}